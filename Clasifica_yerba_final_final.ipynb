{
  "nbformat": 4,
  "nbformat_minor": 0,
  "metadata": {
    "colab": {
      "name": "Clasifica-yerba-final-final",
      "provenance": [],
      "include_colab_link": true
    },
    "kernelspec": {
      "name": "python3",
      "display_name": "Python 3"
    },
    "language_info": {
      "name": "python"
    },
    "accelerator": "GPU"
  },
  "cells": [
    {
      "cell_type": "markdown",
      "metadata": {
        "id": "view-in-github",
        "colab_type": "text"
      },
      "source": [
        "<a href=\"https://colab.research.google.com/github/Coolershock/TPBuscaYerba/blob/main/Clasifica_yerba_final_final.ipynb\" target=\"_parent\"><img src=\"https://colab.research.google.com/assets/colab-badge.svg\" alt=\"Open In Colab\"/></a>"
      ]
    },
    {
      "cell_type": "code",
      "metadata": {
        "colab": {
          "base_uri": "https://localhost:8080/"
        },
        "id": "BZGXlCgRBZpO",
        "outputId": "e3e5da58-f9a3-4a4e-c31a-a6db2390717c"
      },
      "source": [
        "from google.colab import drive\n",
        "drive.mount('/content/drive')"
      ],
      "execution_count": 1,
      "outputs": [
        {
          "output_type": "stream",
          "name": "stdout",
          "text": [
            "Drive already mounted at /content/drive; to attempt to forcibly remount, call drive.mount(\"/content/drive\", force_remount=True).\n"
          ]
        }
      ]
    },
    {
      "cell_type": "code",
      "metadata": {
        "id": "lK41-6oVtLpa"
      },
      "source": [
        "import sys\n",
        "import os\n",
        "import tensorflow \n",
        "from tensorflow import keras\n",
        "from tensorflow.keras import layers\n",
        "from tensorflow.keras import optimizers\n",
        "from tensorflow.keras import losses"
      ],
      "execution_count": 2,
      "outputs": []
    },
    {
      "cell_type": "code",
      "metadata": {
        "colab": {
          "base_uri": "https://localhost:8080/"
        },
        "id": "Yd8xduqVtoHw",
        "outputId": "e16612a9-614e-4006-e20b-a45ef6d7c6a8"
      },
      "source": [
        "print(tensorflow.__version__)"
      ],
      "execution_count": 3,
      "outputs": [
        {
          "output_type": "stream",
          "name": "stdout",
          "text": [
            "2.6.0\n"
          ]
        }
      ]
    },
    {
      "cell_type": "markdown",
      "metadata": {
        "id": "rGL5BsBsuyO7"
      },
      "source": [
        "Importamos las librerías necesarias"
      ]
    },
    {
      "cell_type": "code",
      "metadata": {
        "id": "RBEC8lowt0gK"
      },
      "source": [
        "from tensorflow.keras.preprocessing.image import ImageDataGenerator\n",
        "from tensorflow.keras.models import Sequential\n",
        "from tensorflow.keras.layers import Dropout, Flatten, Dense, Activation\n",
        "from tensorflow.keras.layers import Convolution2D, MaxPooling2D"
      ],
      "execution_count": 4,
      "outputs": []
    },
    {
      "cell_type": "markdown",
      "metadata": {
        "id": "riuhu3KGu4V8"
      },
      "source": [
        "Limpiamos cualquier corrida anterior"
      ]
    },
    {
      "cell_type": "code",
      "metadata": {
        "id": "s3_SN7H5u-_E"
      },
      "source": [
        "from tensorflow.keras import backend as k\n",
        "k.clear_session()"
      ],
      "execution_count": 5,
      "outputs": []
    },
    {
      "cell_type": "markdown",
      "metadata": {
        "id": "2KBGZv0IvLJS"
      },
      "source": [
        "indicamos la ubicación de los datos de entrenamiento y los datos de validación"
      ]
    },
    {
      "cell_type": "code",
      "metadata": {
        "id": "0gfb_8hlvUBU"
      },
      "source": [
        "datos_entrenamiento='/content/drive/MyDrive/doc/machine learning/ds4/entrenamiento'\n",
        "datos_validacion='/content/drive/MyDrive/doc/machine learning/ds4/validacion'"
      ],
      "execution_count": 6,
      "outputs": []
    },
    {
      "cell_type": "markdown",
      "metadata": {
        "id": "tTCF0JQWwGqZ"
      },
      "source": [
        "Definimos los parámetros que vamos a utilizar"
      ]
    },
    {
      "cell_type": "code",
      "metadata": {
        "id": "XS366uiqwMre"
      },
      "source": [
        "##Parámetros\n",
        "epocas=15\n",
        "altura, longitud = 100,100\n",
        "batch_size=7\n",
        "batch_size_val=2\n",
        "pasos=7\n",
        "pasos_val=200\n",
        "filtros_conv1=32\n",
        "filtros_conv2=64\n",
        "tam_fil1=(3,3)\n",
        "tam_fil2=(2,2)\n",
        "tam_pool=(2,2)\n",
        "clases=2\n",
        "lr=0.0005"
      ],
      "execution_count": 7,
      "outputs": []
    },
    {
      "cell_type": "markdown",
      "metadata": {
        "id": "3vzke_BbwQz2"
      },
      "source": [
        "Preprocesamiento de imágenes"
      ]
    },
    {
      "cell_type": "code",
      "metadata": {
        "colab": {
          "base_uri": "https://localhost:8080/"
        },
        "id": "bBqYP9clwVZu",
        "outputId": "082717dd-4d5e-4850-fe55-62bee9564525"
      },
      "source": [
        "##Preprocesamiento de imágenes\n",
        "entrenamiento_datagen= ImageDataGenerator(\n",
        "    rescale=1./255,\n",
        "    shear_range=0.3,\n",
        "    zoom_range=0.3,\n",
        "   horizontal_flip=True\n",
        ")\n",
        "\n",
        "validacion_datagen=ImageDataGenerator(\n",
        "    rescale=1./255\n",
        ")\n",
        "\n",
        "imagen_entrenamiento= entrenamiento_datagen.flow_from_directory(\n",
        "    datos_entrenamiento,\n",
        "    target_size=(altura,longitud),\n",
        "    batch_size=batch_size,\n",
        "    class_mode='binary'\n",
        ")\n",
        "\n",
        "imagen_validacion= validacion_datagen.flow_from_directory(\n",
        "    datos_validacion,\n",
        "    target_size=(altura, longitud),\n",
        "    batch_size=batch_size_val,\n",
        "    class_mode='binary'\n",
        ")"
      ],
      "execution_count": 16,
      "outputs": [
        {
          "output_type": "stream",
          "name": "stdout",
          "text": [
            "Found 54 images belonging to 2 classes.\n",
            "Found 14 images belonging to 2 classes.\n"
          ]
        }
      ]
    },
    {
      "cell_type": "markdown",
      "metadata": {
        "id": "t6JbiPVleRb6"
      },
      "source": [
        "Probando una CNN Simple"
      ]
    },
    {
      "cell_type": "code",
      "metadata": {
        "id": "UVVx2T1VeU_I"
      },
      "source": [
        "##Creamos la Red CNN\n",
        "## cnn=Sequential()\n",
        "## cnn.add(Convolution2D(filtros_conv1, tam_fil1, padding='same', input_shape=(altura,longitud,3), activation='relu'))\n",
        "## cnn.add(MaxPooling2D(pool_size=tam_pool))\n",
        "## cnn.add(Convolution2D(filtros_conv2, tam_fil2, padding='same', activation='relu'))\n",
        "## cnn.add(MaxPooling2D(pool_size=tam_pool))"
      ],
      "execution_count": 11,
      "outputs": []
    },
    {
      "cell_type": "markdown",
      "metadata": {
        "id": "Jh19b1gMKkZd"
      },
      "source": [
        "Prueba de función vgg16 y vgg19, ambos modelos preeentrenados para clasificación de imágenes con pesos que se descargan al instanciar el modelo"
      ]
    },
    {
      "cell_type": "code",
      "metadata": {
        "colab": {
          "base_uri": "https://localhost:8080/"
        },
        "id": "KGBy4MWJLJa0",
        "outputId": "9184812f-5982-4d0c-cab6-9fb5e4d667ff"
      },
      "source": [
        "from tensorflow.keras.applications.vgg16 import VGG16\n",
        "\n",
        "modelo_vgg16 = VGG16(weights='imagenet', include_top=False,  input_shape=(100, 100, 3))\n",
        "\n",
        "modelo_vgg16.summary()"
      ],
      "execution_count": 8,
      "outputs": [
        {
          "output_type": "stream",
          "name": "stdout",
          "text": [
            "Model: \"vgg16\"\n",
            "_________________________________________________________________\n",
            "Layer (type)                 Output Shape              Param #   \n",
            "=================================================================\n",
            "input_1 (InputLayer)         [(None, 100, 100, 3)]     0         \n",
            "_________________________________________________________________\n",
            "block1_conv1 (Conv2D)        (None, 100, 100, 64)      1792      \n",
            "_________________________________________________________________\n",
            "block1_conv2 (Conv2D)        (None, 100, 100, 64)      36928     \n",
            "_________________________________________________________________\n",
            "block1_pool (MaxPooling2D)   (None, 50, 50, 64)        0         \n",
            "_________________________________________________________________\n",
            "block2_conv1 (Conv2D)        (None, 50, 50, 128)       73856     \n",
            "_________________________________________________________________\n",
            "block2_conv2 (Conv2D)        (None, 50, 50, 128)       147584    \n",
            "_________________________________________________________________\n",
            "block2_pool (MaxPooling2D)   (None, 25, 25, 128)       0         \n",
            "_________________________________________________________________\n",
            "block3_conv1 (Conv2D)        (None, 25, 25, 256)       295168    \n",
            "_________________________________________________________________\n",
            "block3_conv2 (Conv2D)        (None, 25, 25, 256)       590080    \n",
            "_________________________________________________________________\n",
            "block3_conv3 (Conv2D)        (None, 25, 25, 256)       590080    \n",
            "_________________________________________________________________\n",
            "block3_pool (MaxPooling2D)   (None, 12, 12, 256)       0         \n",
            "_________________________________________________________________\n",
            "block4_conv1 (Conv2D)        (None, 12, 12, 512)       1180160   \n",
            "_________________________________________________________________\n",
            "block4_conv2 (Conv2D)        (None, 12, 12, 512)       2359808   \n",
            "_________________________________________________________________\n",
            "block4_conv3 (Conv2D)        (None, 12, 12, 512)       2359808   \n",
            "_________________________________________________________________\n",
            "block4_pool (MaxPooling2D)   (None, 6, 6, 512)         0         \n",
            "_________________________________________________________________\n",
            "block5_conv1 (Conv2D)        (None, 6, 6, 512)         2359808   \n",
            "_________________________________________________________________\n",
            "block5_conv2 (Conv2D)        (None, 6, 6, 512)         2359808   \n",
            "_________________________________________________________________\n",
            "block5_conv3 (Conv2D)        (None, 6, 6, 512)         2359808   \n",
            "_________________________________________________________________\n",
            "block5_pool (MaxPooling2D)   (None, 3, 3, 512)         0         \n",
            "=================================================================\n",
            "Total params: 14,714,688\n",
            "Trainable params: 14,714,688\n",
            "Non-trainable params: 0\n",
            "_________________________________________________________________\n"
          ]
        }
      ]
    },
    {
      "cell_type": "code",
      "metadata": {
        "colab": {
          "base_uri": "https://localhost:8080/"
        },
        "id": "rEx_gNRneJB1",
        "outputId": "ab3595cc-e17c-4f81-82b5-c6e4d0858474"
      },
      "source": [
        "from tensorflow.keras.applications.vgg19 import VGG19\n",
        "\n",
        "modelo_vgg19 = VGG19(weights='imagenet', include_top=False)\n",
        "\n",
        "modelo_vgg19.summary()"
      ],
      "execution_count": 9,
      "outputs": [
        {
          "output_type": "stream",
          "name": "stdout",
          "text": [
            "Model: \"vgg19\"\n",
            "_________________________________________________________________\n",
            "Layer (type)                 Output Shape              Param #   \n",
            "=================================================================\n",
            "input_2 (InputLayer)         [(None, None, None, 3)]   0         \n",
            "_________________________________________________________________\n",
            "block1_conv1 (Conv2D)        (None, None, None, 64)    1792      \n",
            "_________________________________________________________________\n",
            "block1_conv2 (Conv2D)        (None, None, None, 64)    36928     \n",
            "_________________________________________________________________\n",
            "block1_pool (MaxPooling2D)   (None, None, None, 64)    0         \n",
            "_________________________________________________________________\n",
            "block2_conv1 (Conv2D)        (None, None, None, 128)   73856     \n",
            "_________________________________________________________________\n",
            "block2_conv2 (Conv2D)        (None, None, None, 128)   147584    \n",
            "_________________________________________________________________\n",
            "block2_pool (MaxPooling2D)   (None, None, None, 128)   0         \n",
            "_________________________________________________________________\n",
            "block3_conv1 (Conv2D)        (None, None, None, 256)   295168    \n",
            "_________________________________________________________________\n",
            "block3_conv2 (Conv2D)        (None, None, None, 256)   590080    \n",
            "_________________________________________________________________\n",
            "block3_conv3 (Conv2D)        (None, None, None, 256)   590080    \n",
            "_________________________________________________________________\n",
            "block3_conv4 (Conv2D)        (None, None, None, 256)   590080    \n",
            "_________________________________________________________________\n",
            "block3_pool (MaxPooling2D)   (None, None, None, 256)   0         \n",
            "_________________________________________________________________\n",
            "block4_conv1 (Conv2D)        (None, None, None, 512)   1180160   \n",
            "_________________________________________________________________\n",
            "block4_conv2 (Conv2D)        (None, None, None, 512)   2359808   \n",
            "_________________________________________________________________\n",
            "block4_conv3 (Conv2D)        (None, None, None, 512)   2359808   \n",
            "_________________________________________________________________\n",
            "block4_conv4 (Conv2D)        (None, None, None, 512)   2359808   \n",
            "_________________________________________________________________\n",
            "block4_pool (MaxPooling2D)   (None, None, None, 512)   0         \n",
            "_________________________________________________________________\n",
            "block5_conv1 (Conv2D)        (None, None, None, 512)   2359808   \n",
            "_________________________________________________________________\n",
            "block5_conv2 (Conv2D)        (None, None, None, 512)   2359808   \n",
            "_________________________________________________________________\n",
            "block5_conv3 (Conv2D)        (None, None, None, 512)   2359808   \n",
            "_________________________________________________________________\n",
            "block5_conv4 (Conv2D)        (None, None, None, 512)   2359808   \n",
            "_________________________________________________________________\n",
            "block5_pool (MaxPooling2D)   (None, None, None, 512)   0         \n",
            "=================================================================\n",
            "Total params: 20,024,384\n",
            "Trainable params: 20,024,384\n",
            "Non-trainable params: 0\n",
            "_________________________________________________________________\n"
          ]
        }
      ]
    },
    {
      "cell_type": "markdown",
      "metadata": {
        "id": "PIXnhiFmh7qx"
      },
      "source": [
        "Aplicamos Transfer learning congelando todas las capas del modelo, que van a ser las primeras capas del modelo que vamos a aplicar."
      ]
    },
    {
      "cell_type": "code",
      "metadata": {
        "id": "Nt7U05kXh5Hj"
      },
      "source": [
        "for layer in modelo_vgg16.layers:\n",
        "  layer.trainable = False"
      ],
      "execution_count": 10,
      "outputs": []
    },
    {
      "cell_type": "markdown",
      "metadata": {
        "id": "wrHaGUbpkVAx"
      },
      "source": [
        "comprobamos que los parámetros antes entrenables, ahora no lo son"
      ]
    },
    {
      "cell_type": "code",
      "metadata": {
        "colab": {
          "base_uri": "https://localhost:8080/"
        },
        "id": "rczbQgTLjqWl",
        "outputId": "896d4054-9aa7-4eb2-b86b-b9361e03f18e"
      },
      "source": [
        "modelo_vgg16.summary()"
      ],
      "execution_count": 11,
      "outputs": [
        {
          "output_type": "stream",
          "name": "stdout",
          "text": [
            "Model: \"vgg16\"\n",
            "_________________________________________________________________\n",
            "Layer (type)                 Output Shape              Param #   \n",
            "=================================================================\n",
            "input_1 (InputLayer)         [(None, 100, 100, 3)]     0         \n",
            "_________________________________________________________________\n",
            "block1_conv1 (Conv2D)        (None, 100, 100, 64)      1792      \n",
            "_________________________________________________________________\n",
            "block1_conv2 (Conv2D)        (None, 100, 100, 64)      36928     \n",
            "_________________________________________________________________\n",
            "block1_pool (MaxPooling2D)   (None, 50, 50, 64)        0         \n",
            "_________________________________________________________________\n",
            "block2_conv1 (Conv2D)        (None, 50, 50, 128)       73856     \n",
            "_________________________________________________________________\n",
            "block2_conv2 (Conv2D)        (None, 50, 50, 128)       147584    \n",
            "_________________________________________________________________\n",
            "block2_pool (MaxPooling2D)   (None, 25, 25, 128)       0         \n",
            "_________________________________________________________________\n",
            "block3_conv1 (Conv2D)        (None, 25, 25, 256)       295168    \n",
            "_________________________________________________________________\n",
            "block3_conv2 (Conv2D)        (None, 25, 25, 256)       590080    \n",
            "_________________________________________________________________\n",
            "block3_conv3 (Conv2D)        (None, 25, 25, 256)       590080    \n",
            "_________________________________________________________________\n",
            "block3_pool (MaxPooling2D)   (None, 12, 12, 256)       0         \n",
            "_________________________________________________________________\n",
            "block4_conv1 (Conv2D)        (None, 12, 12, 512)       1180160   \n",
            "_________________________________________________________________\n",
            "block4_conv2 (Conv2D)        (None, 12, 12, 512)       2359808   \n",
            "_________________________________________________________________\n",
            "block4_conv3 (Conv2D)        (None, 12, 12, 512)       2359808   \n",
            "_________________________________________________________________\n",
            "block4_pool (MaxPooling2D)   (None, 6, 6, 512)         0         \n",
            "_________________________________________________________________\n",
            "block5_conv1 (Conv2D)        (None, 6, 6, 512)         2359808   \n",
            "_________________________________________________________________\n",
            "block5_conv2 (Conv2D)        (None, 6, 6, 512)         2359808   \n",
            "_________________________________________________________________\n",
            "block5_conv3 (Conv2D)        (None, 6, 6, 512)         2359808   \n",
            "_________________________________________________________________\n",
            "block5_pool (MaxPooling2D)   (None, 3, 3, 512)         0         \n",
            "=================================================================\n",
            "Total params: 14,714,688\n",
            "Trainable params: 0\n",
            "Non-trainable params: 14,714,688\n",
            "_________________________________________________________________\n"
          ]
        }
      ]
    },
    {
      "cell_type": "markdown",
      "metadata": {
        "id": "yeCN9aCnfCiG"
      },
      "source": [
        "Armamos un modelo con base en el VGG16"
      ]
    },
    {
      "cell_type": "code",
      "metadata": {
        "colab": {
          "base_uri": "https://localhost:8080/"
        },
        "id": "QwKe2oBtg_ms",
        "outputId": "1ac69895-9331-4658-c323-539c7e7a3319"
      },
      "source": [
        "cnn=Sequential()\n",
        "cnn.add(modelo_vgg16)\n",
        "cnn.summary()"
      ],
      "execution_count": 12,
      "outputs": [
        {
          "output_type": "stream",
          "name": "stdout",
          "text": [
            "Model: \"sequential\"\n",
            "_________________________________________________________________\n",
            "Layer (type)                 Output Shape              Param #   \n",
            "=================================================================\n",
            "vgg16 (Functional)           (None, 3, 3, 512)         14714688  \n",
            "=================================================================\n",
            "Total params: 14,714,688\n",
            "Trainable params: 0\n",
            "Non-trainable params: 14,714,688\n",
            "_________________________________________________________________\n"
          ]
        }
      ]
    },
    {
      "cell_type": "markdown",
      "metadata": {
        "id": "bRDaioL8N-xX"
      },
      "source": [
        "agregamos capas propias, con parametros entrenables"
      ]
    },
    {
      "cell_type": "code",
      "metadata": {
        "colab": {
          "base_uri": "https://localhost:8080/"
        },
        "id": "_o-TRQpRPwcv",
        "outputId": "1e54fe46-a6be-40d7-c56e-c382cd3cff83"
      },
      "source": [
        "cnn2=Sequential()\n",
        "cnn2.add(modelo_vgg16)\n",
        "cnn2.add(layers.Flatten())\n",
        "cnn2.add(layers.Dense(256, activation='relu'))\n",
        "cnn2.add(layers.Dense(1, activation='sigmoid'))\n",
        "cnn2.summary()"
      ],
      "execution_count": 13,
      "outputs": [
        {
          "output_type": "stream",
          "name": "stdout",
          "text": [
            "Model: \"sequential_1\"\n",
            "_________________________________________________________________\n",
            "Layer (type)                 Output Shape              Param #   \n",
            "=================================================================\n",
            "vgg16 (Functional)           (None, 3, 3, 512)         14714688  \n",
            "_________________________________________________________________\n",
            "flatten (Flatten)            (None, 4608)              0         \n",
            "_________________________________________________________________\n",
            "dense (Dense)                (None, 256)               1179904   \n",
            "_________________________________________________________________\n",
            "dense_1 (Dense)              (None, 1)                 257       \n",
            "=================================================================\n",
            "Total params: 15,894,849\n",
            "Trainable params: 1,180,161\n",
            "Non-trainable params: 14,714,688\n",
            "_________________________________________________________________\n"
          ]
        }
      ]
    },
    {
      "cell_type": "code",
      "metadata": {
        "colab": {
          "base_uri": "https://localhost:8080/"
        },
        "id": "miZqwamT26Hy",
        "outputId": "dff32e7a-9cef-4088-e920-5418eabf4974"
      },
      "source": [
        "cnn2.compile(loss='binary_crossentropy', optimizer=keras.optimizers.Adam(learning_rate=lr), metrics=['accuracy'])\n",
        "history = cnn2.fit(imagen_entrenamiento, steps_per_epoch=pasos, epochs=epocas, validation_data = imagen_validacion, validation_steps= 5)"
      ],
      "execution_count": 17,
      "outputs": [
        {
          "output_type": "stream",
          "name": "stdout",
          "text": [
            "Epoch 1/15\n",
            "7/7 [==============================] - 9s 943ms/step - loss: 0.6198 - accuracy: 0.6809 - val_loss: 0.5789 - val_accuracy: 0.6000\n",
            "Epoch 2/15\n",
            "7/7 [==============================] - 6s 958ms/step - loss: 0.2860 - accuracy: 0.8723 - val_loss: 0.3476 - val_accuracy: 0.8000\n",
            "Epoch 3/15\n",
            "7/7 [==============================] - 6s 902ms/step - loss: 0.2574 - accuracy: 0.8936 - val_loss: 0.3723 - val_accuracy: 0.7000\n",
            "Epoch 4/15\n",
            "7/7 [==============================] - 6s 871ms/step - loss: 0.1599 - accuracy: 0.8936 - val_loss: 0.4237 - val_accuracy: 0.8000\n",
            "Epoch 5/15\n",
            "7/7 [==============================] - 6s 904ms/step - loss: 0.0628 - accuracy: 1.0000 - val_loss: 0.4810 - val_accuracy: 0.7000\n",
            "Epoch 6/15\n",
            "7/7 [==============================] - 6s 909ms/step - loss: 0.1017 - accuracy: 0.9574 - val_loss: 0.4177 - val_accuracy: 0.7000\n",
            "Epoch 7/15\n",
            "7/7 [==============================] - 6s 902ms/step - loss: 0.2120 - accuracy: 0.9362 - val_loss: 0.2034 - val_accuracy: 0.9000\n",
            "Epoch 8/15\n",
            "7/7 [==============================] - 6s 825ms/step - loss: 0.0862 - accuracy: 0.9574 - val_loss: 0.2058 - val_accuracy: 0.9000\n",
            "Epoch 9/15\n",
            "7/7 [==============================] - 6s 863ms/step - loss: 0.0657 - accuracy: 0.9787 - val_loss: 0.2108 - val_accuracy: 0.9000\n",
            "Epoch 10/15\n",
            "7/7 [==============================] - 6s 863ms/step - loss: 0.0247 - accuracy: 1.0000 - val_loss: 0.1090 - val_accuracy: 1.0000\n",
            "Epoch 11/15\n",
            "7/7 [==============================] - 6s 917ms/step - loss: 0.0908 - accuracy: 0.9574 - val_loss: 0.0713 - val_accuracy: 1.0000\n",
            "Epoch 12/15\n",
            "7/7 [==============================] - 6s 881ms/step - loss: 0.0622 - accuracy: 1.0000 - val_loss: 0.1318 - val_accuracy: 1.0000\n",
            "Epoch 13/15\n",
            "7/7 [==============================] - 6s 860ms/step - loss: 0.0335 - accuracy: 1.0000 - val_loss: 0.0873 - val_accuracy: 1.0000\n",
            "Epoch 14/15\n",
            "7/7 [==============================] - 6s 927ms/step - loss: 0.0303 - accuracy: 1.0000 - val_loss: 0.1264 - val_accuracy: 1.0000\n",
            "Epoch 15/15\n",
            "7/7 [==============================] - 6s 875ms/step - loss: 0.0448 - accuracy: 0.9787 - val_loss: 0.0402 - val_accuracy: 1.0000\n"
          ]
        }
      ]
    },
    {
      "cell_type": "markdown",
      "metadata": {
        "id": "bqTUDcuAe5oK"
      },
      "source": [
        "Gráficamos algunas métricas asociadas al comportamiento del modelo"
      ]
    },
    {
      "cell_type": "code",
      "metadata": {
        "colab": {
          "base_uri": "https://localhost:8080/"
        },
        "id": "Sh5Fk15_eNqX",
        "outputId": "e272ac47-98d8-4a0a-db2d-7cd1765ca828"
      },
      "source": [
        "print(history.history.keys())"
      ],
      "execution_count": 18,
      "outputs": [
        {
          "output_type": "stream",
          "name": "stdout",
          "text": [
            "dict_keys(['loss', 'accuracy', 'val_loss', 'val_accuracy'])\n"
          ]
        }
      ]
    },
    {
      "cell_type": "code",
      "metadata": {
        "colab": {
          "base_uri": "https://localhost:8080/",
          "height": 577
        },
        "id": "SZwRYNVNl7BX",
        "outputId": "9f4c0971-c4a7-4fb6-d6b6-1c6f611de91a"
      },
      "source": [
        "import matplotlib.pyplot as plt\n",
        "plt.plot(history.history['accuracy'])\n",
        "plt.plot(history.history['val_accuracy'])\n",
        "plt.title('Precision del modelo')\n",
        "plt.ylabel('Accuracy')\n",
        "plt.xlabel('Épocas')\n",
        "plt.legend(['Entrenamiento', 'test'], loc='upper left')\n",
        "plt.show()\n",
        "plt.plot(history.history['loss'])\n",
        "plt.plot(history.history['val_loss'])\n",
        "plt.title('Perdidas del modelo')\n",
        "plt.ylabel('perdidas')\n",
        "plt.xlabel('Épocas')\n",
        "plt.legend(['Entrenamiento','test'], loc='upper left')\n",
        "plt.show()"
      ],
      "execution_count": 19,
      "outputs": [
        {
          "output_type": "display_data",
          "data": {
            "image/png": "[encoded data removed]",
            "text/plain": [
              "<Figure size 432x288 with 1 Axes>"
            ]
          },
          "metadata": {
            "needs_background": "light"
          }
        },
        {
          "output_type": "display_data",
          "data": {
            "image/png": "[encoded data removed]",
            "text/plain": [
              "<Figure size 432x288 with 1 Axes>"
            ]
          },
          "metadata": {
            "needs_background": "light"
          }
        }
      ]
    },
    {
      "cell_type": "markdown",
      "metadata": {
        "id": "Yj7eDalxxlzL"
      },
      "source": [
        "Otro tipo de gráfico"
      ]
    },
    {
      "cell_type": "code",
      "metadata": {
        "colab": {
          "base_uri": "https://localhost:8080/",
          "height": 545
        },
        "id": "0a_7Z_Uoev3g",
        "outputId": "c89eb1d5-c04e-4ab5-8002-ed1b062d5b03"
      },
      "source": [
        "acc = history.history['accuracy']\n",
        "val_acc  = history.history['val_accuracy']\n",
        "loss     = history.history['loss']\n",
        "val_loss = history.history['val_loss']\n",
        "\n",
        "ep = range(len(acc))\n",
        "\n",
        "plt.plot(ep, acc, 'bo', label='Entrenamiento acc')\n",
        "plt.plot(ep, val_acc, 'b', label='Validación acc')\n",
        "plt.title('Accuracy - exactitud de entrenamiento y validación')\n",
        "\n",
        "plt.legend()\n",
        "plt.figure()\n",
        "\n",
        "plt.plot(ep, loss, 'bo', label='Entrenamiento loss')\n",
        "plt.plot(ep, val_loss, 'b', label='Validación loss')\n",
        "plt.title('Loss - función objetivo en entrenamiento y prueba')\n",
        "\n",
        "plt.legend()\n",
        "plt.show()"
      ],
      "execution_count": 20,
      "outputs": [
        {
          "output_type": "display_data",
          "data": {
            "image/png": "[encoded data removed]",
            "text/plain": [
              "<Figure size 432x288 with 1 Axes>"
            ]
          },
          "metadata": {
            "needs_background": "light"
          }
        },
        {
          "output_type": "display_data",
          "data": {
            "image/png": "[encoded data removed]",
            "text/plain": [
              "<Figure size 432x288 with 1 Axes>"
            ]
          },
          "metadata": {
            "needs_background": "light"
          }
        }
      ]
    },
    {
      "cell_type": "markdown",
      "metadata": {
        "id": "GFq6PBcVxp_R"
      },
      "source": [
        "Guardamos el modelo y los pesos"
      ]
    },
    {
      "cell_type": "code",
      "metadata": {
        "id": "bCAcmEvqxpX4"
      },
      "source": [
        "cnn2.save('/content/drive/MyDrive/doc/machine learning/modelo/modelo_final.h5')\n",
        "cnn2.save_weights('/content/drive/MyDrive/doc/machine learning/modelo/pesos_final.h5')"
      ],
      "execution_count": 21,
      "outputs": []
    },
    {
      "cell_type": "markdown",
      "metadata": {
        "id": "7f6M_tOeyHF3"
      },
      "source": [
        "Proceso de predicción"
      ]
    },
    {
      "cell_type": "code",
      "metadata": {
        "id": "3_gF7vCUyIbu"
      },
      "source": [
        "from keras.preprocessing.image import load_img, img_to_array\n",
        "from keras.models import load_model\n",
        "import numpy as np"
      ],
      "execution_count": 22,
      "outputs": []
    },
    {
      "cell_type": "code",
      "metadata": {
        "id": "O_YhBFjLyOin"
      },
      "source": [
        "modelo = '/content/drive/MyDrive/doc/machine learning/modelo/modelo_final.h5'\n",
        "pesos = '/content/drive/MyDrive/doc/machine learning/modelo/pesos_final.h5'\n",
        "cnn2 = load_model(modelo)\n",
        "cnn2.load_weights(pesos)"
      ],
      "execution_count": 23,
      "outputs": []
    },
    {
      "cell_type": "code",
      "metadata": {
        "colab": {
          "base_uri": "https://localhost:8080/"
        },
        "id": "sVd_MvBlyltm",
        "outputId": "c59853da-5fd7-4d4b-f513-65aa8535af07"
      },
      "source": [
        "def predecir (file):\n",
        "  x=load_img(file, target_size=(longitud,altura))\n",
        "  x=img_to_array(x)\n",
        "  x=np.expand_dims(x,axis=0)\n",
        "  output=cnn2.predict(x)\n",
        "  #print(output)\n",
        "  respuesta=np.argmax(output)\n",
        "  \n",
        "  if output == 1:\n",
        "    print('sana')\n",
        "  else:\n",
        "    print('enferma')\n",
        "  return \n",
        "\n",
        "predecir('/content/drive/MyDrive/doc/machine learning/dataset2/validacion/sanas/sana-11.jpg')\n",
        "predecir('/content/drive/MyDrive/doc/machine learning/dataset2/validacion/sanas/sana-13.jpg')\n",
        "predecir('/content/drive/MyDrive/doc/machine learning/dataset2/validacion/enfermas/Colletotrichum 11.jpg')\n",
        "predecir('/content/drive/MyDrive/doc/machine learning/dataset2/validacion/enfermas/Colletotrichum 7.jpg')\n",
        "predecir('/content/drive/MyDrive/doc/machine learning/dataset2/validacion/sanas/sana-17.jpg')\n",
        "predecir('/content/drive/MyDrive/doc/machine learning/dataset2/validacion/sanas/sana-7.jpg')\n",
        "predecir('/content/drive/MyDrive/doc/machine learning/dataset2/validacion/enfermas/Colletotrichum 13.jpg')\n",
        "predecir('/content/drive/MyDrive/doc/machine learning/dataset/yerba.jpg')"
      ],
      "execution_count": 24,
      "outputs": [
        {
          "output_type": "stream",
          "name": "stdout",
          "text": [
            "sana\n",
            "sana\n",
            "enferma\n",
            "enferma\n",
            "sana\n",
            "sana\n",
            "enferma\n",
            "sana\n"
          ]
        }
      ]
    },
    {
      "cell_type": "code",
      "metadata": {
        "colab": {
          "base_uri": "https://localhost:8080/"
        },
        "id": "XqPUNV-zCy0x",
        "outputId": "6a61a4d9-2c1a-428d-9d5c-92015119b64b"
      },
      "source": [
        "predecir('/content/drive/MyDrive/doc/machine learning/dataset2/test2/nu-1.jpg')\n",
        "predecir('/content/drive/MyDrive/doc/machine learning/dataset2/test2/nu-2.jpg')\n",
        "predecir('/content/drive/MyDrive/doc/machine learning/dataset2/test2/nu-3.jpg')\n",
        "predecir('/content/drive/MyDrive/doc/machine learning/dataset2/test2/nu-4.jpg')\n",
        "predecir('/content/drive/MyDrive/doc/machine learning/dataset2/test2/nu-5.jpg')\n",
        "predecir('/content/drive/MyDrive/doc/machine learning/dataset2/test2/nu-6.jpg')\n",
        "predecir('/content/drive/MyDrive/doc/machine learning/dataset2/test2/nu-7.jpg')\n",
        "predecir('/content/drive/MyDrive/doc/machine learning/dataset2/test2/nu-8.jpg')\n",
        "predecir('/content/drive/MyDrive/doc/machine learning/dataset2/test2/nu-9.jpg')\n",
        "predecir('/content/drive/MyDrive/doc/machine learning/dataset2/test2/nu-10.jpg')\n",
        "predecir('/content/drive/MyDrive/doc/machine learning/dataset2/test2/nu-11.jpg')\n",
        "predecir('/content/drive/MyDrive/doc/machine learning/dataset2/test2/nu-12.jpg')"
      ],
      "execution_count": 25,
      "outputs": [
        {
          "output_type": "stream",
          "name": "stdout",
          "text": [
            "enferma\n",
            "enferma\n",
            "enferma\n",
            "enferma\n",
            "enferma\n",
            "enferma\n",
            "enferma\n",
            "sana\n",
            "sana\n",
            "sana\n",
            "enferma\n",
            "enferma\n"
          ]
        }
      ]
    },
    {
      "cell_type": "code",
      "metadata": {
        "colab": {
          "base_uri": "https://localhost:8080/"
        },
        "id": "XYh8xCBxOcts",
        "outputId": "9ab3b888-7e37-48db-aeef-2dd61a96059f"
      },
      "source": [
        "predecir('/content/drive/MyDrive/doc/machine learning/ds4/validacion/enfermas/Colletotrichum 12.jpg')\n",
        "predecir('/content/drive/MyDrive/doc/machine learning/ds4/validacion/enfermas/Colletotrichum 13.jpg')\n",
        "predecir('/content/drive/MyDrive/doc/machine learning/ds4/validacion/enfermas/Colletotrichum 3.jpg')\n",
        "predecir('/content/drive/MyDrive/doc/machine learning/ds4/validacion/enfermas/Colletotrichum 4.jpg')\n",
        "predecir('/content/drive/MyDrive/doc/machine learning/ds4/validacion/enfermas/Colletotrichum 5.jpg')\n",
        "predecir('/content/drive/MyDrive/doc/machine learning/ds4/validacion/sanas/nu-9.jpg')\n",
        "predecir('/content/drive/MyDrive/doc/machine learning/ds4/validacion/sanas/sana-17.jpg')\n",
        "predecir('/content/drive/MyDrive/doc/machine learning/ds4/validacion/sanas/sana-18.jpg')"
      ],
      "execution_count": 26,
      "outputs": [
        {
          "output_type": "stream",
          "name": "stdout",
          "text": [
            "enferma\n",
            "enferma\n",
            "enferma\n",
            "enferma\n",
            "enferma\n",
            "sana\n",
            "sana\n",
            "sana\n"
          ]
        }
      ]
    }
  ]
}