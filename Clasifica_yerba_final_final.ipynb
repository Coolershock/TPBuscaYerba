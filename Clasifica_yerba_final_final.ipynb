{
  "nbformat": 4,
  "nbformat_minor": 0,
  "metadata": {
    "colab": {
      "name": "Clasifica-yerba-final-final",
      "provenance": [],
      "include_colab_link": true
    },
    "kernelspec": {
      "name": "python3",
      "display_name": "Python 3"
    },
    "language_info": {
      "name": "python"
    },
    "accelerator": "GPU"
  },
  "cells": [
    {
      "cell_type": "markdown",
      "metadata": {
        "id": "view-in-github",
        "colab_type": "text"
      },
      "source": [
        "<a href=\"https://colab.research.google.com/github/Coolershock/TPBuscaYerba/blob/main/Clasifica_yerba_final_final.ipynb\" target=\"_parent\"><img src=\"https://colab.research.google.com/assets/colab-badge.svg\" alt=\"Open In Colab\"/></a>"
      ]
    },
    {
      "cell_type": "code",
      "metadata": {
        "colab": {
          "base_uri": "https://localhost:8080/"
        },
        "id": "BZGXlCgRBZpO",
        "outputId": "98715e4a-a74b-45c3-eddd-74018c1280fc"
      },
      "source": [
        "!git clone https://github.com/Coolershock/TPBuscaYerba/"
      ],
      "execution_count": 1,
      "outputs": [
        {
          "output_type": "stream",
          "name": "stdout",
          "text": [
            "fatal: destination path 'TPBuscaYerba' already exists and is not an empty directory.\n"
          ]
        }
      ]
    },
    {
      "cell_type": "code",
      "metadata": {
        "id": "lK41-6oVtLpa"
      },
      "source": [
        "import sys\n",
        "import os\n",
        "import tensorflow \n",
        "from tensorflow import keras\n",
        "from tensorflow.keras import layers\n",
        "from tensorflow.keras import optimizers\n",
        "from tensorflow.keras import losses"
      ],
      "execution_count": 2,
      "outputs": []
    },
    {
      "cell_type": "code",
      "metadata": {
        "colab": {
          "base_uri": "https://localhost:8080/"
        },
        "id": "Yd8xduqVtoHw",
        "outputId": "f55b45db-9de6-4db4-a490-9325a815664a"
      },
      "source": [
        "print(tensorflow.__version__)"
      ],
      "execution_count": 3,
      "outputs": [
        {
          "output_type": "stream",
          "name": "stdout",
          "text": [
            "2.6.0\n"
          ]
        }
      ]
    },
    {
      "cell_type": "markdown",
      "metadata": {
        "id": "rGL5BsBsuyO7"
      },
      "source": [
        "Importamos las librerías necesarias"
      ]
    },
    {
      "cell_type": "code",
      "metadata": {
        "id": "RBEC8lowt0gK"
      },
      "source": [
        "from tensorflow.keras.preprocessing.image import ImageDataGenerator\n",
        "from tensorflow.keras.models import Sequential\n",
        "from tensorflow.keras.layers import Dropout, Flatten, Dense, Activation\n",
        "from tensorflow.keras.layers import Convolution2D, MaxPooling2D"
      ],
      "execution_count": 4,
      "outputs": []
    },
    {
      "cell_type": "markdown",
      "metadata": {
        "id": "riuhu3KGu4V8"
      },
      "source": [
        "Limpiamos cualquier corrida anterior"
      ]
    },
    {
      "cell_type": "code",
      "metadata": {
        "id": "s3_SN7H5u-_E"
      },
      "source": [
        "from tensorflow.keras import backend as k\n",
        "k.clear_session()"
      ],
      "execution_count": 5,
      "outputs": []
    },
    {
      "cell_type": "markdown",
      "metadata": {
        "id": "2KBGZv0IvLJS"
      },
      "source": [
        "indicamos la ubicación de los datos de entrenamiento y los datos de validación"
      ]
    },
    {
      "cell_type": "code",
      "metadata": {
        "id": "0gfb_8hlvUBU"
      },
      "source": [
        "datos_entrenamiento='/content/TPBuscaYerba/ds4/entrenamiento'\n",
        "datos_validacion='/content/TPBuscaYerba/ds4/validacion'"
      ],
      "execution_count": 6,
      "outputs": []
    },
    {
      "cell_type": "markdown",
      "metadata": {
        "id": "tTCF0JQWwGqZ"
      },
      "source": [
        "Definimos los parámetros que vamos a utilizar"
      ]
    },
    {
      "cell_type": "code",
      "metadata": {
        "id": "XS366uiqwMre"
      },
      "source": [
        "##Parámetros\n",
        "epocas=12\n",
        "altura, longitud = 100,100\n",
        "batch_size=7\n",
        "batch_size_val=2\n",
        "pasos=7\n",
        "pasos_val=200\n",
        "filtros_conv1=32\n",
        "filtros_conv2=64\n",
        "tam_fil1=(3,3)\n",
        "tam_fil2=(2,2)\n",
        "tam_pool=(2,2)\n",
        "clases=2\n",
        "lr=0.0005"
      ],
      "execution_count": 7,
      "outputs": []
    },
    {
      "cell_type": "markdown",
      "metadata": {
        "id": "3vzke_BbwQz2"
      },
      "source": [
        "Preprocesamiento de imágenes"
      ]
    },
    {
      "cell_type": "code",
      "metadata": {
        "colab": {
          "base_uri": "https://localhost:8080/"
        },
        "id": "bBqYP9clwVZu",
        "outputId": "21193b24-dc7f-4f75-c73f-676949069efe"
      },
      "source": [
        "##Preprocesamiento de imágenes\n",
        "entrenamiento_datagen= ImageDataGenerator(\n",
        "    rescale=1./255,\n",
        "    shear_range=0.3,\n",
        "    zoom_range=0.3,\n",
        "   horizontal_flip=True\n",
        ")\n",
        "\n",
        "validacion_datagen=ImageDataGenerator(\n",
        "    rescale=1./255\n",
        ")\n",
        "\n",
        "imagen_entrenamiento= entrenamiento_datagen.flow_from_directory(\n",
        "    datos_entrenamiento,\n",
        "    target_size=(altura,longitud),\n",
        "    batch_size=batch_size,\n",
        "    class_mode='binary'\n",
        ")\n",
        "\n",
        "imagen_validacion= validacion_datagen.flow_from_directory(\n",
        "    datos_validacion,\n",
        "    target_size=(altura, longitud),\n",
        "    batch_size=batch_size_val,\n",
        "    class_mode='binary'\n",
        ")"
      ],
      "execution_count": 8,
      "outputs": [
        {
          "output_type": "stream",
          "name": "stdout",
          "text": [
            "Found 54 images belonging to 2 classes.\n",
            "Found 14 images belonging to 2 classes.\n"
          ]
        }
      ]
    },
    {
      "cell_type": "markdown",
      "metadata": {
        "id": "t6JbiPVleRb6"
      },
      "source": [
        "Probando una CNN Simple"
      ]
    },
    {
      "cell_type": "code",
      "metadata": {
        "id": "UVVx2T1VeU_I"
      },
      "source": [
        "##Creamos la Red CNN\n",
        "## cnn=Sequential()\n",
        "## cnn.add(Convolution2D(filtros_conv1, tam_fil1, padding='same', input_shape=(altura,longitud,3), activation='relu'))\n",
        "## cnn.add(MaxPooling2D(pool_size=tam_pool))\n",
        "## cnn.add(Convolution2D(filtros_conv2, tam_fil2, padding='same', activation='relu'))\n",
        "## cnn.add(MaxPooling2D(pool_size=tam_pool))"
      ],
      "execution_count": 9,
      "outputs": []
    },
    {
      "cell_type": "markdown",
      "metadata": {
        "id": "Jh19b1gMKkZd"
      },
      "source": [
        "Prueba de función vgg16 y vgg19, ambos modelos preeentrenados para clasificación de imágenes con pesos que se descargan al instanciar el modelo"
      ]
    },
    {
      "cell_type": "code",
      "metadata": {
        "colab": {
          "base_uri": "https://localhost:8080/"
        },
        "id": "KGBy4MWJLJa0",
        "outputId": "0744fc0c-ca1c-4181-a0fb-541ac52846cd"
      },
      "source": [
        "from tensorflow.keras.applications.vgg16 import VGG16\n",
        "\n",
        "modelo_vgg16 = VGG16(weights='imagenet', include_top=False,  input_shape=(100, 100, 3))\n",
        "\n",
        "modelo_vgg16.summary()"
      ],
      "execution_count": 10,
      "outputs": [
        {
          "output_type": "stream",
          "name": "stdout",
          "text": [
            "Model: \"vgg16\"\n",
            "_________________________________________________________________\n",
            "Layer (type)                 Output Shape              Param #   \n",
            "=================================================================\n",
            "input_1 (InputLayer)         [(None, 100, 100, 3)]     0         \n",
            "_________________________________________________________________\n",
            "block1_conv1 (Conv2D)        (None, 100, 100, 64)      1792      \n",
            "_________________________________________________________________\n",
            "block1_conv2 (Conv2D)        (None, 100, 100, 64)      36928     \n",
            "_________________________________________________________________\n",
            "block1_pool (MaxPooling2D)   (None, 50, 50, 64)        0         \n",
            "_________________________________________________________________\n",
            "block2_conv1 (Conv2D)        (None, 50, 50, 128)       73856     \n",
            "_________________________________________________________________\n",
            "block2_conv2 (Conv2D)        (None, 50, 50, 128)       147584    \n",
            "_________________________________________________________________\n",
            "block2_pool (MaxPooling2D)   (None, 25, 25, 128)       0         \n",
            "_________________________________________________________________\n",
            "block3_conv1 (Conv2D)        (None, 25, 25, 256)       295168    \n",
            "_________________________________________________________________\n",
            "block3_conv2 (Conv2D)        (None, 25, 25, 256)       590080    \n",
            "_________________________________________________________________\n",
            "block3_conv3 (Conv2D)        (None, 25, 25, 256)       590080    \n",
            "_________________________________________________________________\n",
            "block3_pool (MaxPooling2D)   (None, 12, 12, 256)       0         \n",
            "_________________________________________________________________\n",
            "block4_conv1 (Conv2D)        (None, 12, 12, 512)       1180160   \n",
            "_________________________________________________________________\n",
            "block4_conv2 (Conv2D)        (None, 12, 12, 512)       2359808   \n",
            "_________________________________________________________________\n",
            "block4_conv3 (Conv2D)        (None, 12, 12, 512)       2359808   \n",
            "_________________________________________________________________\n",
            "block4_pool (MaxPooling2D)   (None, 6, 6, 512)         0         \n",
            "_________________________________________________________________\n",
            "block5_conv1 (Conv2D)        (None, 6, 6, 512)         2359808   \n",
            "_________________________________________________________________\n",
            "block5_conv2 (Conv2D)        (None, 6, 6, 512)         2359808   \n",
            "_________________________________________________________________\n",
            "block5_conv3 (Conv2D)        (None, 6, 6, 512)         2359808   \n",
            "_________________________________________________________________\n",
            "block5_pool (MaxPooling2D)   (None, 3, 3, 512)         0         \n",
            "=================================================================\n",
            "Total params: 14,714,688\n",
            "Trainable params: 14,714,688\n",
            "Non-trainable params: 0\n",
            "_________________________________________________________________\n"
          ]
        }
      ]
    },
    {
      "cell_type": "code",
      "metadata": {
        "colab": {
          "base_uri": "https://localhost:8080/"
        },
        "id": "rEx_gNRneJB1",
        "outputId": "00f79ce1-efd3-4f30-fff3-b9ba39e2a83b"
      },
      "source": [
        "from tensorflow.keras.applications.vgg19 import VGG19\n",
        "\n",
        "modelo_vgg19 = VGG19(weights='imagenet', include_top=False)\n",
        "\n",
        "modelo_vgg19.summary()"
      ],
      "execution_count": 11,
      "outputs": [
        {
          "output_type": "stream",
          "name": "stdout",
          "text": [
            "Model: \"vgg19\"\n",
            "_________________________________________________________________\n",
            "Layer (type)                 Output Shape              Param #   \n",
            "=================================================================\n",
            "input_2 (InputLayer)         [(None, None, None, 3)]   0         \n",
            "_________________________________________________________________\n",
            "block1_conv1 (Conv2D)        (None, None, None, 64)    1792      \n",
            "_________________________________________________________________\n",
            "block1_conv2 (Conv2D)        (None, None, None, 64)    36928     \n",
            "_________________________________________________________________\n",
            "block1_pool (MaxPooling2D)   (None, None, None, 64)    0         \n",
            "_________________________________________________________________\n",
            "block2_conv1 (Conv2D)        (None, None, None, 128)   73856     \n",
            "_________________________________________________________________\n",
            "block2_conv2 (Conv2D)        (None, None, None, 128)   147584    \n",
            "_________________________________________________________________\n",
            "block2_pool (MaxPooling2D)   (None, None, None, 128)   0         \n",
            "_________________________________________________________________\n",
            "block3_conv1 (Conv2D)        (None, None, None, 256)   295168    \n",
            "_________________________________________________________________\n",
            "block3_conv2 (Conv2D)        (None, None, None, 256)   590080    \n",
            "_________________________________________________________________\n",
            "block3_conv3 (Conv2D)        (None, None, None, 256)   590080    \n",
            "_________________________________________________________________\n",
            "block3_conv4 (Conv2D)        (None, None, None, 256)   590080    \n",
            "_________________________________________________________________\n",
            "block3_pool (MaxPooling2D)   (None, None, None, 256)   0         \n",
            "_________________________________________________________________\n",
            "block4_conv1 (Conv2D)        (None, None, None, 512)   1180160   \n",
            "_________________________________________________________________\n",
            "block4_conv2 (Conv2D)        (None, None, None, 512)   2359808   \n",
            "_________________________________________________________________\n",
            "block4_conv3 (Conv2D)        (None, None, None, 512)   2359808   \n",
            "_________________________________________________________________\n",
            "block4_conv4 (Conv2D)        (None, None, None, 512)   2359808   \n",
            "_________________________________________________________________\n",
            "block4_pool (MaxPooling2D)   (None, None, None, 512)   0         \n",
            "_________________________________________________________________\n",
            "block5_conv1 (Conv2D)        (None, None, None, 512)   2359808   \n",
            "_________________________________________________________________\n",
            "block5_conv2 (Conv2D)        (None, None, None, 512)   2359808   \n",
            "_________________________________________________________________\n",
            "block5_conv3 (Conv2D)        (None, None, None, 512)   2359808   \n",
            "_________________________________________________________________\n",
            "block5_conv4 (Conv2D)        (None, None, None, 512)   2359808   \n",
            "_________________________________________________________________\n",
            "block5_pool (MaxPooling2D)   (None, None, None, 512)   0         \n",
            "=================================================================\n",
            "Total params: 20,024,384\n",
            "Trainable params: 20,024,384\n",
            "Non-trainable params: 0\n",
            "_________________________________________________________________\n"
          ]
        }
      ]
    },
    {
      "cell_type": "markdown",
      "metadata": {
        "id": "PIXnhiFmh7qx"
      },
      "source": [
        "Aplicamos Transfer learning congelando todas las capas del modelo, que van a ser las primeras capas del modelo que vamos a aplicar."
      ]
    },
    {
      "cell_type": "code",
      "metadata": {
        "id": "Nt7U05kXh5Hj"
      },
      "source": [
        "for layer in modelo_vgg16.layers:\n",
        "  layer.trainable = False"
      ],
      "execution_count": 12,
      "outputs": []
    },
    {
      "cell_type": "markdown",
      "metadata": {
        "id": "wrHaGUbpkVAx"
      },
      "source": [
        "comprobamos que los parámetros antes entrenables, ahora no lo son"
      ]
    },
    {
      "cell_type": "code",
      "metadata": {
        "colab": {
          "base_uri": "https://localhost:8080/"
        },
        "id": "rczbQgTLjqWl",
        "outputId": "1cece332-fb77-4d3f-deab-66401cc05f22"
      },
      "source": [
        "modelo_vgg16.summary()"
      ],
      "execution_count": 13,
      "outputs": [
        {
          "output_type": "stream",
          "name": "stdout",
          "text": [
            "Model: \"vgg16\"\n",
            "_________________________________________________________________\n",
            "Layer (type)                 Output Shape              Param #   \n",
            "=================================================================\n",
            "input_1 (InputLayer)         [(None, 100, 100, 3)]     0         \n",
            "_________________________________________________________________\n",
            "block1_conv1 (Conv2D)        (None, 100, 100, 64)      1792      \n",
            "_________________________________________________________________\n",
            "block1_conv2 (Conv2D)        (None, 100, 100, 64)      36928     \n",
            "_________________________________________________________________\n",
            "block1_pool (MaxPooling2D)   (None, 50, 50, 64)        0         \n",
            "_________________________________________________________________\n",
            "block2_conv1 (Conv2D)        (None, 50, 50, 128)       73856     \n",
            "_________________________________________________________________\n",
            "block2_conv2 (Conv2D)        (None, 50, 50, 128)       147584    \n",
            "_________________________________________________________________\n",
            "block2_pool (MaxPooling2D)   (None, 25, 25, 128)       0         \n",
            "_________________________________________________________________\n",
            "block3_conv1 (Conv2D)        (None, 25, 25, 256)       295168    \n",
            "_________________________________________________________________\n",
            "block3_conv2 (Conv2D)        (None, 25, 25, 256)       590080    \n",
            "_________________________________________________________________\n",
            "block3_conv3 (Conv2D)        (None, 25, 25, 256)       590080    \n",
            "_________________________________________________________________\n",
            "block3_pool (MaxPooling2D)   (None, 12, 12, 256)       0         \n",
            "_________________________________________________________________\n",
            "block4_conv1 (Conv2D)        (None, 12, 12, 512)       1180160   \n",
            "_________________________________________________________________\n",
            "block4_conv2 (Conv2D)        (None, 12, 12, 512)       2359808   \n",
            "_________________________________________________________________\n",
            "block4_conv3 (Conv2D)        (None, 12, 12, 512)       2359808   \n",
            "_________________________________________________________________\n",
            "block4_pool (MaxPooling2D)   (None, 6, 6, 512)         0         \n",
            "_________________________________________________________________\n",
            "block5_conv1 (Conv2D)        (None, 6, 6, 512)         2359808   \n",
            "_________________________________________________________________\n",
            "block5_conv2 (Conv2D)        (None, 6, 6, 512)         2359808   \n",
            "_________________________________________________________________\n",
            "block5_conv3 (Conv2D)        (None, 6, 6, 512)         2359808   \n",
            "_________________________________________________________________\n",
            "block5_pool (MaxPooling2D)   (None, 3, 3, 512)         0         \n",
            "=================================================================\n",
            "Total params: 14,714,688\n",
            "Trainable params: 0\n",
            "Non-trainable params: 14,714,688\n",
            "_________________________________________________________________\n"
          ]
        }
      ]
    },
    {
      "cell_type": "markdown",
      "metadata": {
        "id": "yeCN9aCnfCiG"
      },
      "source": [
        "Armamos un modelo con base en el VGG16"
      ]
    },
    {
      "cell_type": "code",
      "metadata": {
        "colab": {
          "base_uri": "https://localhost:8080/"
        },
        "id": "QwKe2oBtg_ms",
        "outputId": "73659ac5-d180-4ad2-f8b8-541bf782a0d3"
      },
      "source": [
        "cnn=Sequential()\n",
        "cnn.add(modelo_vgg16)\n",
        "cnn.summary()"
      ],
      "execution_count": 14,
      "outputs": [
        {
          "output_type": "stream",
          "name": "stdout",
          "text": [
            "Model: \"sequential\"\n",
            "_________________________________________________________________\n",
            "Layer (type)                 Output Shape              Param #   \n",
            "=================================================================\n",
            "vgg16 (Functional)           (None, 3, 3, 512)         14714688  \n",
            "=================================================================\n",
            "Total params: 14,714,688\n",
            "Trainable params: 0\n",
            "Non-trainable params: 14,714,688\n",
            "_________________________________________________________________\n"
          ]
        }
      ]
    },
    {
      "cell_type": "markdown",
      "metadata": {
        "id": "bRDaioL8N-xX"
      },
      "source": [
        "agregamos capas propias, con parametros entrenables"
      ]
    },
    {
      "cell_type": "code",
      "metadata": {
        "colab": {
          "base_uri": "https://localhost:8080/"
        },
        "id": "_o-TRQpRPwcv",
        "outputId": "ba98d30d-5e6f-4c3a-c3f1-a9cdd1a79b30"
      },
      "source": [
        "cnn2=Sequential()\n",
        "cnn2.add(modelo_vgg16)\n",
        "cnn2.add(layers.Flatten())\n",
        "cnn2.add(layers.Dense(256, activation='relu'))\n",
        "cnn2.add(layers.Dense(1, activation='sigmoid'))\n",
        "cnn2.summary()"
      ],
      "execution_count": 15,
      "outputs": [
        {
          "output_type": "stream",
          "name": "stdout",
          "text": [
            "Model: \"sequential_1\"\n",
            "_________________________________________________________________\n",
            "Layer (type)                 Output Shape              Param #   \n",
            "=================================================================\n",
            "vgg16 (Functional)           (None, 3, 3, 512)         14714688  \n",
            "_________________________________________________________________\n",
            "flatten (Flatten)            (None, 4608)              0         \n",
            "_________________________________________________________________\n",
            "dense (Dense)                (None, 256)               1179904   \n",
            "_________________________________________________________________\n",
            "dense_1 (Dense)              (None, 1)                 257       \n",
            "=================================================================\n",
            "Total params: 15,894,849\n",
            "Trainable params: 1,180,161\n",
            "Non-trainable params: 14,714,688\n",
            "_________________________________________________________________\n"
          ]
        }
      ]
    },
    {
      "cell_type": "code",
      "metadata": {
        "colab": {
          "base_uri": "https://localhost:8080/"
        },
        "id": "miZqwamT26Hy",
        "outputId": "6329e588-b8de-4cb7-d062-507f04018af2"
      },
      "source": [
        "cnn2.compile(loss='binary_crossentropy', optimizer=keras.optimizers.Adam(learning_rate=lr), metrics=['accuracy'])\n",
        "history = cnn2.fit(imagen_entrenamiento, steps_per_epoch=pasos, epochs=epocas, validation_data = imagen_validacion, validation_steps= 5)"
      ],
      "execution_count": 16,
      "outputs": [
        {
          "output_type": "stream",
          "name": "stdout",
          "text": [
            "Epoch 1/12\n",
            "7/7 [==============================] - 9s 937ms/step - loss: 0.5866 - accuracy: 0.8298 - val_loss: 0.6335 - val_accuracy: 0.6000\n",
            "Epoch 2/12\n",
            "7/7 [==============================] - 7s 1s/step - loss: 0.4601 - accuracy: 0.7447 - val_loss: 0.4863 - val_accuracy: 0.8000\n",
            "Epoch 3/12\n",
            "7/7 [==============================] - 6s 893ms/step - loss: 0.3317 - accuracy: 0.8776 - val_loss: 0.6830 - val_accuracy: 0.8000\n",
            "Epoch 4/12\n",
            "7/7 [==============================] - 7s 1s/step - loss: 0.2679 - accuracy: 0.8936 - val_loss: 0.5055 - val_accuracy: 0.6000\n",
            "Epoch 5/12\n",
            "7/7 [==============================] - 6s 804ms/step - loss: 0.1967 - accuracy: 0.9149 - val_loss: 0.5553 - val_accuracy: 0.7000\n",
            "Epoch 6/12\n",
            "7/7 [==============================] - 6s 891ms/step - loss: 0.2546 - accuracy: 0.8936 - val_loss: 0.4482 - val_accuracy: 0.7000\n",
            "Epoch 7/12\n",
            "7/7 [==============================] - 6s 915ms/step - loss: 0.0770 - accuracy: 0.9787 - val_loss: 0.2349 - val_accuracy: 0.9000\n",
            "Epoch 8/12\n",
            "7/7 [==============================] - 6s 867ms/step - loss: 0.1076 - accuracy: 0.9362 - val_loss: 0.3012 - val_accuracy: 0.9000\n",
            "Epoch 9/12\n",
            "7/7 [==============================] - 6s 917ms/step - loss: 0.0724 - accuracy: 1.0000 - val_loss: 0.2330 - val_accuracy: 0.9000\n",
            "Epoch 10/12\n",
            "7/7 [==============================] - 6s 865ms/step - loss: 0.0593 - accuracy: 0.9787 - val_loss: 0.1782 - val_accuracy: 0.9000\n",
            "Epoch 11/12\n",
            "7/7 [==============================] - 6s 875ms/step - loss: 0.0564 - accuracy: 0.9796 - val_loss: 0.1027 - val_accuracy: 1.0000\n",
            "Epoch 12/12\n",
            "7/7 [==============================] - 6s 889ms/step - loss: 0.0498 - accuracy: 0.9787 - val_loss: 0.1335 - val_accuracy: 1.0000\n"
          ]
        }
      ]
    },
    {
      "cell_type": "markdown",
      "metadata": {
        "id": "bqTUDcuAe5oK"
      },
      "source": [
        "Gráficamos algunas métricas asociadas al comportamiento del modelo"
      ]
    },
    {
      "cell_type": "code",
      "metadata": {
        "colab": {
          "base_uri": "https://localhost:8080/"
        },
        "id": "Sh5Fk15_eNqX",
        "outputId": "5b216e27-c083-4551-e4a9-88c3c90a4684"
      },
      "source": [
        "print(history.history.keys())"
      ],
      "execution_count": 17,
      "outputs": [
        {
          "output_type": "stream",
          "name": "stdout",
          "text": [
            "dict_keys(['loss', 'accuracy', 'val_loss', 'val_accuracy'])\n"
          ]
        }
      ]
    },
    {
      "cell_type": "code",
      "metadata": {
        "colab": {
          "base_uri": "https://localhost:8080/",
          "height": 577
        },
        "id": "SZwRYNVNl7BX",
        "outputId": "9c1a6673-9c3f-4e54-e274-45214c26348c"
      },
      "source": [
        "import matplotlib.pyplot as plt\n",
        "plt.plot(history.history['accuracy'])\n",
        "plt.plot(history.history['val_accuracy'])\n",
        "plt.title('Precision del modelo')\n",
        "plt.ylabel('Accuracy')\n",
        "plt.xlabel('Épocas')\n",
        "plt.legend(['Entrenamiento', 'test'], loc='upper left')\n",
        "plt.show()\n",
        "plt.plot(history.history['loss'])\n",
        "plt.plot(history.history['val_loss'])\n",
        "plt.title('Perdidas del modelo')\n",
        "plt.ylabel('perdidas')\n",
        "plt.xlabel('Épocas')\n",
        "plt.legend(['Entrenamiento','test'], loc='upper left')\n",
        "plt.show()"
      ],
      "execution_count": 18,
      "outputs": [
        {
          "output_type": "display_data",
          "data": {
            "image/png": "[encoded data removed]",
            "text/plain": [
              "<Figure size 432x288 with 1 Axes>"
            ]
          },
          "metadata": {
            "needs_background": "light"
          }
        },
        {
          "output_type": "display_data",
          "data": {
            "image/png": "[encoded data removed]",
            "text/plain": [
              "<Figure size 432x288 with 1 Axes>"
            ]
          },
          "metadata": {
            "needs_background": "light"
          }
        }
      ]
    },
    {
      "cell_type": "markdown",
      "metadata": {
        "id": "Yj7eDalxxlzL"
      },
      "source": [
        "Otro tipo de gráfico"
      ]
    },
    {
      "cell_type": "code",
      "metadata": {
        "colab": {
          "base_uri": "https://localhost:8080/",
          "height": 545
        },
        "id": "0a_7Z_Uoev3g",
        "outputId": "56dbaba3-9ad2-4730-cbd7-8a135cf5d374"
      },
      "source": [
        "acc = history.history['accuracy']\n",
        "val_acc  = history.history['val_accuracy']\n",
        "loss     = history.history['loss']\n",
        "val_loss = history.history['val_loss']\n",
        "\n",
        "ep = range(len(acc))\n",
        "\n",
        "plt.plot(ep, acc, 'bo', label='Entrenamiento acc')\n",
        "plt.plot(ep, val_acc, 'b', label='Validación acc')\n",
        "plt.title('Accuracy - exactitud de entrenamiento y validación')\n",
        "\n",
        "plt.legend()\n",
        "plt.figure()\n",
        "\n",
        "plt.plot(ep, loss, 'bo', label='Entrenamiento loss')\n",
        "plt.plot(ep, val_loss, 'b', label='Validación loss')\n",
        "plt.title('Loss - función objetivo en entrenamiento y prueba')\n",
        "\n",
        "plt.legend()\n",
        "plt.show()"
      ],
      "execution_count": 19,
      "outputs": [
        {
          "output_type": "display_data",
          "data": {
            "image/png": "[encoded data removed]",
            "text/plain": [
              "<Figure size 432x288 with 1 Axes>"
            ]
          },
          "metadata": {
            "needs_background": "light"
          }
        },
        {
          "output_type": "display_data",
          "data": {
            "image/png": "[encoded data removed]",
            "text/plain": [
              "<Figure size 432x288 with 1 Axes>"
            ]
          },
          "metadata": {
            "needs_background": "light"
          }
        }
      ]
    },
    {
      "cell_type": "markdown",
      "metadata": {
        "id": "GFq6PBcVxp_R"
      },
      "source": [
        "Guardamos el modelo y los pesos"
      ]
    },
    {
      "cell_type": "code",
      "metadata": {
        "id": "bCAcmEvqxpX4"
      },
      "source": [
        "cnn2.save('/content/TPBuscaYerba/modelo_final.h5')\n",
        "cnn2.save_weights('/content/TPBuscaYerba/pesos_final.h5')"
      ],
      "execution_count": 20,
      "outputs": []
    },
    {
      "cell_type": "markdown",
      "metadata": {
        "id": "7f6M_tOeyHF3"
      },
      "source": [
        "Proceso de predicción"
      ]
    },
    {
      "cell_type": "code",
      "metadata": {
        "id": "3_gF7vCUyIbu"
      },
      "source": [
        "from keras.preprocessing.image import load_img, img_to_array\n",
        "from keras.models import load_model\n",
        "import numpy as np"
      ],
      "execution_count": 21,
      "outputs": []
    },
    {
      "cell_type": "code",
      "metadata": {
        "id": "O_YhBFjLyOin"
      },
      "source": [
        "modelo = '/content/TPBuscaYerba/modelo_final.h5'\n",
        "pesos = '/content/TPBuscaYerba/pesos_final.h5'\n",
        "cnn2 = load_model(modelo)\n",
        "cnn2.load_weights(pesos)"
      ],
      "execution_count": 22,
      "outputs": []
    },
    {
      "cell_type": "code",
      "metadata": {
        "colab": {
          "base_uri": "https://localhost:8080/"
        },
        "id": "sVd_MvBlyltm",
        "outputId": "4ed3eab4-7623-4b8b-f066-4d8db1511a23"
      },
      "source": [
        "def predecir (file):\n",
        "  x=load_img(file, target_size=(longitud,altura))\n",
        "  x=img_to_array(x)\n",
        "  x=np.expand_dims(x,axis=0)\n",
        "  output=cnn2.predict(x)\n",
        "  #print(output)\n",
        "  respuesta=np.argmax(output)\n",
        "  \n",
        "  if output == 1:\n",
        "    print('sana')\n",
        "  else:\n",
        "    print('enferma')\n",
        "  return \n",
        "\n",
        "predecir('/content/TPBuscaYerba/ds4/validacion/enfermas/Colletotrichum 12.jpg')\n",
        "predecir('/content/TPBuscaYerba/ds4/validacion/enfermas/Colletotrichum 4.jpg')\n",
        "predecir('/content/TPBuscaYerba/ds4/validacion/enfermas/Colletotrichum 7.jpg')\n",
        "predecir('/content/TPBuscaYerba/ds4/validacion/sanas/nu-9.jpg')\n",
        "predecir('/content/TPBuscaYerba/ds4/validacion/sanas/sana-17.jpg')\n",
        "predecir('/content/TPBuscaYerba/ds4/validacion/sanas/sana-18.jpg')\n",
        "predecir('/content/TPBuscaYerba/ds4/validacion/enfermas/Colletotrichum 13.jpg')\n",
        "predecir('/content/TPBuscaYerba/ds4/validacion/sanas/nu-10.jpg')"
      ],
      "execution_count": 23,
      "outputs": [
        {
          "output_type": "stream",
          "name": "stdout",
          "text": [
            "enferma\n",
            "enferma\n",
            "enferma\n",
            "sana\n",
            "sana\n",
            "sana\n",
            "enferma\n",
            "sana\n"
          ]
        }
      ]
    }
  ]
}