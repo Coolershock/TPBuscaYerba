{
  "nbformat": 4,
  "nbformat_minor": 0,
  "metadata": {
    "colab": {
      "name": "clasifica-yerba-final",
      "provenance": [],
      "include_colab_link": true
    },
    "kernelspec": {
      "name": "python3",
      "display_name": "Python 3"
    },
    "language_info": {
      "name": "python"
    },
    "accelerator": "GPU"
  },
  "cells": [
    {
      "cell_type": "markdown",
      "metadata": {
        "id": "view-in-github",
        "colab_type": "text"
      },
      "source": [
        "<a href=\"https://colab.research.google.com/github/Coolershock/TPBuscaYerba/blob/main/clasifica_yerba_final.ipynb\" target=\"_parent\"><img src=\"https://colab.research.google.com/assets/colab-badge.svg\" alt=\"Open In Colab\"/></a>"
      ]
    },
    {
      "cell_type": "code",
      "metadata": {
        "id": "lK41-6oVtLpa"
      },
      "source": [
        "import sys\n",
        "import os\n",
        "import tensorflow \n",
        "from tensorflow import keras\n",
        "from tensorflow.keras import layers\n",
        "from tensorflow.keras import optimizers\n",
        "from tensorflow.keras import losses"
      ],
      "execution_count": 1,
      "outputs": []
    },
    {
      "cell_type": "code",
      "metadata": {
        "colab": {
          "base_uri": "https://localhost:8080/"
        },
        "id": "Yd8xduqVtoHw",
        "outputId": "52e16d59-a439-4247-92be-ca2f3900ed27"
      },
      "source": [
        "print(tensorflow.__version__)"
      ],
      "execution_count": 2,
      "outputs": [
        {
          "output_type": "stream",
          "name": "stdout",
          "text": [
            "2.6.0\n"
          ]
        }
      ]
    },
    {
      "cell_type": "markdown",
      "metadata": {
        "id": "XgPSgUEa04HQ"
      },
      "source": [
        "Clonamos el dataset de github"
      ]
    },
    {
      "cell_type": "code",
      "metadata": {
        "id": "G6XsnQfGwlvV",
        "outputId": "487f5333-3f3c-44b1-9d0c-6a7f8e9d578d",
        "colab": {
          "base_uri": "https://localhost:8080/"
        }
      },
      "source": [
        "!git clone https://github.com/Coolershock/TPBuscaYerba/"
      ],
      "execution_count": 5,
      "outputs": [
        {
          "output_type": "stream",
          "name": "stdout",
          "text": [
            "Cloning into 'TPBuscaYerba'...\n",
            "remote: Enumerating objects: 359, done.\u001b[K\n",
            "remote: Counting objects: 100% (359/359), done.\u001b[K\n",
            "remote: Compressing objects: 100% (308/308), done.\u001b[K\n",
            "remote: Total 359 (delta 50), reused 0 (delta 0), pack-reused 0\u001b[K\n",
            "Receiving objects: 100% (359/359), 83.06 MiB | 26.01 MiB/s, done.\n",
            "Resolving deltas: 100% (50/50), done.\n"
          ]
        }
      ]
    },
    {
      "cell_type": "markdown",
      "metadata": {
        "id": "rGL5BsBsuyO7"
      },
      "source": [
        "Importamos las librerías necesarias"
      ]
    },
    {
      "cell_type": "code",
      "metadata": {
        "id": "RBEC8lowt0gK"
      },
      "source": [
        "from tensorflow.keras.preprocessing.image import ImageDataGenerator\n",
        "from tensorflow.keras.models import Sequential\n",
        "from tensorflow.keras.layers import Dropout, Flatten, Dense, Activation\n",
        "from tensorflow.keras.layers import Convolution2D, MaxPooling2D"
      ],
      "execution_count": 3,
      "outputs": []
    },
    {
      "cell_type": "markdown",
      "metadata": {
        "id": "riuhu3KGu4V8"
      },
      "source": [
        "Limpiamos cualquier corrida anterior"
      ]
    },
    {
      "cell_type": "code",
      "metadata": {
        "id": "s3_SN7H5u-_E"
      },
      "source": [
        "from tensorflow.keras import backend as k\n",
        "k.clear_session()"
      ],
      "execution_count": 4,
      "outputs": []
    },
    {
      "cell_type": "markdown",
      "metadata": {
        "id": "2KBGZv0IvLJS"
      },
      "source": [
        "indicamos la ubicación de los datos de entrenamiento y los datos de validación"
      ]
    },
    {
      "cell_type": "code",
      "metadata": {
        "id": "0gfb_8hlvUBU"
      },
      "source": [
        "datos_entrenamiento='/content/TPBuscaYerba/Dataset3/entrenamiento'\n",
        "datos_validacion='/content/TPBuscaYerba/Dataset3/validacion'"
      ],
      "execution_count": 6,
      "outputs": []
    },
    {
      "cell_type": "markdown",
      "metadata": {
        "id": "tTCF0JQWwGqZ"
      },
      "source": [
        "Definimos los parámetros que vamos a utilizar"
      ]
    },
    {
      "cell_type": "code",
      "metadata": {
        "id": "XS366uiqwMre"
      },
      "source": [
        "##Parámetros\n",
        "epocas=10\n",
        "altura, longitud = 100,100\n",
        "batch_size=5\n",
        "pasos=10\n",
        "pasos_val=200\n",
        "filtros_conv1=32\n",
        "filtros_conv2=64\n",
        "tam_fil1=(3,3)\n",
        "tam_fil2=(2,2)\n",
        "tam_pool=(2,2)\n",
        "clases=2\n",
        "lr=0.0005"
      ],
      "execution_count": 7,
      "outputs": []
    },
    {
      "cell_type": "markdown",
      "metadata": {
        "id": "3vzke_BbwQz2"
      },
      "source": [
        "Preprocesamiento de imágenes"
      ]
    },
    {
      "cell_type": "code",
      "metadata": {
        "id": "Zv9HziT2Kzy1"
      },
      "source": [
        "#from google.colab import drive\n",
        "#drive.mount('/content/drive')"
      ],
      "execution_count": 8,
      "outputs": []
    },
    {
      "cell_type": "code",
      "metadata": {
        "colab": {
          "base_uri": "https://localhost:8080/"
        },
        "id": "bBqYP9clwVZu",
        "outputId": "167fe1e7-4b6a-45cf-f428-b83060be4bb5"
      },
      "source": [
        "##Preprocesamiento de imágenes\n",
        "entrenamiento_datagen= ImageDataGenerator(\n",
        "    rescale=1./255,\n",
        "    shear_range=0.3,\n",
        "    zoom_range=0.3,\n",
        "    horizontal_flip=True\n",
        ")\n",
        "\n",
        "validacion_datagen=ImageDataGenerator(\n",
        "    rescale=1./255\n",
        ")\n",
        "\n",
        "imagen_entrenamiento= entrenamiento_datagen.flow_from_directory(\n",
        "    datos_entrenamiento,\n",
        "    target_size=(altura,longitud),\n",
        "    batch_size=batch_size,\n",
        "    class_mode='binary'\n",
        ")\n",
        "\n",
        "imagen_validacion= validacion_datagen.flow_from_directory(\n",
        "    datos_validacion,\n",
        "    target_size=(altura, longitud),\n",
        "    batch_size=batch_size,\n",
        "    class_mode='binary'\n",
        ")"
      ],
      "execution_count": 9,
      "outputs": [
        {
          "output_type": "stream",
          "name": "stdout",
          "text": [
            "Found 56 images belonging to 2 classes.\n",
            "Found 56 images belonging to 2 classes.\n"
          ]
        }
      ]
    },
    {
      "cell_type": "markdown",
      "metadata": {
        "id": "t6JbiPVleRb6"
      },
      "source": [
        "Probando una CNN Simple"
      ]
    },
    {
      "cell_type": "code",
      "metadata": {
        "id": "UVVx2T1VeU_I"
      },
      "source": [
        "##Creamos la Red CNN\n",
        "## cnn=Sequential()\n",
        "## cnn.add(Convolution2D(filtros_conv1, tam_fil1, padding='same', input_shape=(altura,longitud,3), activation='relu'))\n",
        "## cnn.add(MaxPooling2D(pool_size=tam_pool))\n",
        "## cnn.add(Convolution2D(filtros_conv2, tam_fil2, padding='same', activation='relu'))\n",
        "## cnn.add(MaxPooling2D(pool_size=tam_pool))"
      ],
      "execution_count": 10,
      "outputs": []
    },
    {
      "cell_type": "markdown",
      "metadata": {
        "id": "Jh19b1gMKkZd"
      },
      "source": [
        "Prueba de función vgg16 y vgg19, ambos modelos preeentrenados para clasificación de imágenes con pesos que se descargan al instanciar el modelo"
      ]
    },
    {
      "cell_type": "code",
      "metadata": {
        "colab": {
          "base_uri": "https://localhost:8080/"
        },
        "id": "KGBy4MWJLJa0",
        "outputId": "f8589b03-9aab-4645-c4dc-cae9eb8eec56"
      },
      "source": [
        "from tensorflow.keras.applications.vgg16 import VGG16\n",
        "\n",
        "modelo_vgg16 = VGG16(weights='imagenet', include_top=False,  input_shape=(100, 100, 3))\n",
        "\n",
        "modelo_vgg16.summary()"
      ],
      "execution_count": 11,
      "outputs": [
        {
          "output_type": "stream",
          "name": "stdout",
          "text": [
            "Downloading data from https://storage.googleapis.com/tensorflow/keras-applications/vgg16/vgg16_weights_tf_dim_ordering_tf_kernels_notop.h5\n",
            "58892288/58889256 [==============================] - 0s 0us/step\n",
            "58900480/58889256 [==============================] - 0s 0us/step\n",
            "Model: \"vgg16\"\n",
            "_________________________________________________________________\n",
            "Layer (type)                 Output Shape              Param #   \n",
            "=================================================================\n",
            "input_1 (InputLayer)         [(None, 100, 100, 3)]     0         \n",
            "_________________________________________________________________\n",
            "block1_conv1 (Conv2D)        (None, 100, 100, 64)      1792      \n",
            "_________________________________________________________________\n",
            "block1_conv2 (Conv2D)        (None, 100, 100, 64)      36928     \n",
            "_________________________________________________________________\n",
            "block1_pool (MaxPooling2D)   (None, 50, 50, 64)        0         \n",
            "_________________________________________________________________\n",
            "block2_conv1 (Conv2D)        (None, 50, 50, 128)       73856     \n",
            "_________________________________________________________________\n",
            "block2_conv2 (Conv2D)        (None, 50, 50, 128)       147584    \n",
            "_________________________________________________________________\n",
            "block2_pool (MaxPooling2D)   (None, 25, 25, 128)       0         \n",
            "_________________________________________________________________\n",
            "block3_conv1 (Conv2D)        (None, 25, 25, 256)       295168    \n",
            "_________________________________________________________________\n",
            "block3_conv2 (Conv2D)        (None, 25, 25, 256)       590080    \n",
            "_________________________________________________________________\n",
            "block3_conv3 (Conv2D)        (None, 25, 25, 256)       590080    \n",
            "_________________________________________________________________\n",
            "block3_pool (MaxPooling2D)   (None, 12, 12, 256)       0         \n",
            "_________________________________________________________________\n",
            "block4_conv1 (Conv2D)        (None, 12, 12, 512)       1180160   \n",
            "_________________________________________________________________\n",
            "block4_conv2 (Conv2D)        (None, 12, 12, 512)       2359808   \n",
            "_________________________________________________________________\n",
            "block4_conv3 (Conv2D)        (None, 12, 12, 512)       2359808   \n",
            "_________________________________________________________________\n",
            "block4_pool (MaxPooling2D)   (None, 6, 6, 512)         0         \n",
            "_________________________________________________________________\n",
            "block5_conv1 (Conv2D)        (None, 6, 6, 512)         2359808   \n",
            "_________________________________________________________________\n",
            "block5_conv2 (Conv2D)        (None, 6, 6, 512)         2359808   \n",
            "_________________________________________________________________\n",
            "block5_conv3 (Conv2D)        (None, 6, 6, 512)         2359808   \n",
            "_________________________________________________________________\n",
            "block5_pool (MaxPooling2D)   (None, 3, 3, 512)         0         \n",
            "=================================================================\n",
            "Total params: 14,714,688\n",
            "Trainable params: 14,714,688\n",
            "Non-trainable params: 0\n",
            "_________________________________________________________________\n"
          ]
        }
      ]
    },
    {
      "cell_type": "code",
      "metadata": {
        "colab": {
          "base_uri": "https://localhost:8080/"
        },
        "id": "rEx_gNRneJB1",
        "outputId": "3f887921-43f4-4d2f-cc78-5049eff02f4b"
      },
      "source": [
        "from tensorflow.keras.applications.vgg19 import VGG19\n",
        "\n",
        "modelo_vgg19 = VGG19(weights='imagenet', include_top=False)\n",
        "\n",
        "modelo_vgg19.summary()"
      ],
      "execution_count": 12,
      "outputs": [
        {
          "output_type": "stream",
          "name": "stdout",
          "text": [
            "Downloading data from https://storage.googleapis.com/tensorflow/keras-applications/vgg19/vgg19_weights_tf_dim_ordering_tf_kernels_notop.h5\n",
            "80142336/80134624 [==============================] - 1s 0us/step\n",
            "80150528/80134624 [==============================] - 1s 0us/step\n",
            "Model: \"vgg19\"\n",
            "_________________________________________________________________\n",
            "Layer (type)                 Output Shape              Param #   \n",
            "=================================================================\n",
            "input_2 (InputLayer)         [(None, None, None, 3)]   0         \n",
            "_________________________________________________________________\n",
            "block1_conv1 (Conv2D)        (None, None, None, 64)    1792      \n",
            "_________________________________________________________________\n",
            "block1_conv2 (Conv2D)        (None, None, None, 64)    36928     \n",
            "_________________________________________________________________\n",
            "block1_pool (MaxPooling2D)   (None, None, None, 64)    0         \n",
            "_________________________________________________________________\n",
            "block2_conv1 (Conv2D)        (None, None, None, 128)   73856     \n",
            "_________________________________________________________________\n",
            "block2_conv2 (Conv2D)        (None, None, None, 128)   147584    \n",
            "_________________________________________________________________\n",
            "block2_pool (MaxPooling2D)   (None, None, None, 128)   0         \n",
            "_________________________________________________________________\n",
            "block3_conv1 (Conv2D)        (None, None, None, 256)   295168    \n",
            "_________________________________________________________________\n",
            "block3_conv2 (Conv2D)        (None, None, None, 256)   590080    \n",
            "_________________________________________________________________\n",
            "block3_conv3 (Conv2D)        (None, None, None, 256)   590080    \n",
            "_________________________________________________________________\n",
            "block3_conv4 (Conv2D)        (None, None, None, 256)   590080    \n",
            "_________________________________________________________________\n",
            "block3_pool (MaxPooling2D)   (None, None, None, 256)   0         \n",
            "_________________________________________________________________\n",
            "block4_conv1 (Conv2D)        (None, None, None, 512)   1180160   \n",
            "_________________________________________________________________\n",
            "block4_conv2 (Conv2D)        (None, None, None, 512)   2359808   \n",
            "_________________________________________________________________\n",
            "block4_conv3 (Conv2D)        (None, None, None, 512)   2359808   \n",
            "_________________________________________________________________\n",
            "block4_conv4 (Conv2D)        (None, None, None, 512)   2359808   \n",
            "_________________________________________________________________\n",
            "block4_pool (MaxPooling2D)   (None, None, None, 512)   0         \n",
            "_________________________________________________________________\n",
            "block5_conv1 (Conv2D)        (None, None, None, 512)   2359808   \n",
            "_________________________________________________________________\n",
            "block5_conv2 (Conv2D)        (None, None, None, 512)   2359808   \n",
            "_________________________________________________________________\n",
            "block5_conv3 (Conv2D)        (None, None, None, 512)   2359808   \n",
            "_________________________________________________________________\n",
            "block5_conv4 (Conv2D)        (None, None, None, 512)   2359808   \n",
            "_________________________________________________________________\n",
            "block5_pool (MaxPooling2D)   (None, None, None, 512)   0         \n",
            "=================================================================\n",
            "Total params: 20,024,384\n",
            "Trainable params: 20,024,384\n",
            "Non-trainable params: 0\n",
            "_________________________________________________________________\n"
          ]
        }
      ]
    },
    {
      "cell_type": "markdown",
      "metadata": {
        "id": "PIXnhiFmh7qx"
      },
      "source": [
        "Aplicamos Transfer learning congelando todas las capas del modelo, que van a ser las primeras capas del modelo que vamos a aplicar."
      ]
    },
    {
      "cell_type": "code",
      "metadata": {
        "id": "Nt7U05kXh5Hj"
      },
      "source": [
        "for layer in modelo_vgg16.layers:\n",
        "  layer.trainable = False"
      ],
      "execution_count": 13,
      "outputs": []
    },
    {
      "cell_type": "markdown",
      "metadata": {
        "id": "wrHaGUbpkVAx"
      },
      "source": [
        "comprobamos que los parámetros antes entrenables, ahora no lo son"
      ]
    },
    {
      "cell_type": "code",
      "metadata": {
        "colab": {
          "base_uri": "https://localhost:8080/"
        },
        "id": "rczbQgTLjqWl",
        "outputId": "381e5d00-9dce-4244-905e-175fe909ac6f"
      },
      "source": [
        "modelo_vgg16.summary()"
      ],
      "execution_count": 14,
      "outputs": [
        {
          "output_type": "stream",
          "name": "stdout",
          "text": [
            "Model: \"vgg16\"\n",
            "_________________________________________________________________\n",
            "Layer (type)                 Output Shape              Param #   \n",
            "=================================================================\n",
            "input_1 (InputLayer)         [(None, 100, 100, 3)]     0         \n",
            "_________________________________________________________________\n",
            "block1_conv1 (Conv2D)        (None, 100, 100, 64)      1792      \n",
            "_________________________________________________________________\n",
            "block1_conv2 (Conv2D)        (None, 100, 100, 64)      36928     \n",
            "_________________________________________________________________\n",
            "block1_pool (MaxPooling2D)   (None, 50, 50, 64)        0         \n",
            "_________________________________________________________________\n",
            "block2_conv1 (Conv2D)        (None, 50, 50, 128)       73856     \n",
            "_________________________________________________________________\n",
            "block2_conv2 (Conv2D)        (None, 50, 50, 128)       147584    \n",
            "_________________________________________________________________\n",
            "block2_pool (MaxPooling2D)   (None, 25, 25, 128)       0         \n",
            "_________________________________________________________________\n",
            "block3_conv1 (Conv2D)        (None, 25, 25, 256)       295168    \n",
            "_________________________________________________________________\n",
            "block3_conv2 (Conv2D)        (None, 25, 25, 256)       590080    \n",
            "_________________________________________________________________\n",
            "block3_conv3 (Conv2D)        (None, 25, 25, 256)       590080    \n",
            "_________________________________________________________________\n",
            "block3_pool (MaxPooling2D)   (None, 12, 12, 256)       0         \n",
            "_________________________________________________________________\n",
            "block4_conv1 (Conv2D)        (None, 12, 12, 512)       1180160   \n",
            "_________________________________________________________________\n",
            "block4_conv2 (Conv2D)        (None, 12, 12, 512)       2359808   \n",
            "_________________________________________________________________\n",
            "block4_conv3 (Conv2D)        (None, 12, 12, 512)       2359808   \n",
            "_________________________________________________________________\n",
            "block4_pool (MaxPooling2D)   (None, 6, 6, 512)         0         \n",
            "_________________________________________________________________\n",
            "block5_conv1 (Conv2D)        (None, 6, 6, 512)         2359808   \n",
            "_________________________________________________________________\n",
            "block5_conv2 (Conv2D)        (None, 6, 6, 512)         2359808   \n",
            "_________________________________________________________________\n",
            "block5_conv3 (Conv2D)        (None, 6, 6, 512)         2359808   \n",
            "_________________________________________________________________\n",
            "block5_pool (MaxPooling2D)   (None, 3, 3, 512)         0         \n",
            "=================================================================\n",
            "Total params: 14,714,688\n",
            "Trainable params: 0\n",
            "Non-trainable params: 14,714,688\n",
            "_________________________________________________________________\n"
          ]
        }
      ]
    },
    {
      "cell_type": "markdown",
      "metadata": {
        "id": "yeCN9aCnfCiG"
      },
      "source": [
        "Armamos un modelo con base en el VGG16"
      ]
    },
    {
      "cell_type": "code",
      "metadata": {
        "colab": {
          "base_uri": "https://localhost:8080/"
        },
        "id": "QwKe2oBtg_ms",
        "outputId": "5a2fda6e-e8c1-4126-8d3c-8b2f927d17a9"
      },
      "source": [
        "cnn=Sequential()\n",
        "cnn.add(modelo_vgg16)\n",
        "cnn.summary()"
      ],
      "execution_count": 15,
      "outputs": [
        {
          "output_type": "stream",
          "name": "stdout",
          "text": [
            "Model: \"sequential\"\n",
            "_________________________________________________________________\n",
            "Layer (type)                 Output Shape              Param #   \n",
            "=================================================================\n",
            "vgg16 (Functional)           (None, 3, 3, 512)         14714688  \n",
            "=================================================================\n",
            "Total params: 14,714,688\n",
            "Trainable params: 0\n",
            "Non-trainable params: 14,714,688\n",
            "_________________________________________________________________\n"
          ]
        }
      ]
    },
    {
      "cell_type": "markdown",
      "metadata": {
        "id": "bRDaioL8N-xX"
      },
      "source": [
        "agregamos capas propias, con parametros entrenables"
      ]
    },
    {
      "cell_type": "code",
      "metadata": {
        "colab": {
          "base_uri": "https://localhost:8080/"
        },
        "id": "_o-TRQpRPwcv",
        "outputId": "2d5bbecb-c638-4b5a-e3b8-dca280e1140e"
      },
      "source": [
        "cnn2=Sequential()\n",
        "cnn2.add(modelo_vgg16)\n",
        "cnn2.add(layers.Flatten())\n",
        "cnn2.add(layers.Dense(256, activation='relu'))\n",
        "cnn2.add(layers.Dense(1, activation='sigmoid'))\n",
        "cnn2.summary()"
      ],
      "execution_count": 16,
      "outputs": [
        {
          "output_type": "stream",
          "name": "stdout",
          "text": [
            "Model: \"sequential_1\"\n",
            "_________________________________________________________________\n",
            "Layer (type)                 Output Shape              Param #   \n",
            "=================================================================\n",
            "vgg16 (Functional)           (None, 3, 3, 512)         14714688  \n",
            "_________________________________________________________________\n",
            "flatten (Flatten)            (None, 4608)              0         \n",
            "_________________________________________________________________\n",
            "dense (Dense)                (None, 256)               1179904   \n",
            "_________________________________________________________________\n",
            "dense_1 (Dense)              (None, 1)                 257       \n",
            "=================================================================\n",
            "Total params: 15,894,849\n",
            "Trainable params: 1,180,161\n",
            "Non-trainable params: 14,714,688\n",
            "_________________________________________________________________\n"
          ]
        }
      ]
    },
    {
      "cell_type": "code",
      "metadata": {
        "colab": {
          "base_uri": "https://localhost:8080/"
        },
        "id": "miZqwamT26Hy",
        "outputId": "2b448b28-cde6-4ded-c319-65054c5459d0"
      },
      "source": [
        "cnn2.compile(loss='binary_crossentropy', optimizer=keras.optimizers.Adam(learning_rate=lr), metrics=['accuracy'])\n",
        "history = cnn2.fit(imagen_entrenamiento, steps_per_epoch=pasos, epochs=epocas, validation_data = imagen_validacion, validation_steps= 5)"
      ],
      "execution_count": 17,
      "outputs": [
        {
          "output_type": "stream",
          "name": "stdout",
          "text": [
            "Epoch 1/10\n",
            "10/10 [==============================] - 16s 2s/step - loss: 1.3265 - accuracy: 0.8261 - val_loss: 0.3062 - val_accuracy: 0.9600\n",
            "Epoch 2/10\n",
            "10/10 [==============================] - 15s 2s/step - loss: 0.4041 - accuracy: 0.8800 - val_loss: 0.2673 - val_accuracy: 0.9200\n",
            "Epoch 3/10\n",
            "10/10 [==============================] - 16s 2s/step - loss: 0.2152 - accuracy: 0.9200 - val_loss: 0.1584 - val_accuracy: 0.9600\n",
            "Epoch 4/10\n",
            "10/10 [==============================] - 15s 1s/step - loss: 0.1607 - accuracy: 0.9565 - val_loss: 0.1436 - val_accuracy: 0.9200\n",
            "Epoch 5/10\n",
            "10/10 [==============================] - 15s 2s/step - loss: 0.0962 - accuracy: 0.9783 - val_loss: 0.0816 - val_accuracy: 1.0000\n",
            "Epoch 6/10\n",
            "10/10 [==============================] - 15s 2s/step - loss: 0.0932 - accuracy: 0.9783 - val_loss: 0.0439 - val_accuracy: 1.0000\n",
            "Epoch 7/10\n",
            "10/10 [==============================] - 15s 2s/step - loss: 0.0834 - accuracy: 0.9783 - val_loss: 0.0494 - val_accuracy: 1.0000\n",
            "Epoch 8/10\n",
            "10/10 [==============================] - 15s 1s/step - loss: 0.0309 - accuracy: 1.0000 - val_loss: 0.0324 - val_accuracy: 1.0000\n",
            "Epoch 9/10\n",
            "10/10 [==============================] - 15s 2s/step - loss: 0.1192 - accuracy: 0.9200 - val_loss: 0.0477 - val_accuracy: 1.0000\n",
            "Epoch 10/10\n",
            "10/10 [==============================] - 15s 2s/step - loss: 0.0387 - accuracy: 1.0000 - val_loss: 0.0142 - val_accuracy: 1.0000\n"
          ]
        }
      ]
    },
    {
      "cell_type": "markdown",
      "metadata": {
        "id": "bqTUDcuAe5oK"
      },
      "source": [
        "Gráficamos algunas métricas asociadas al comportamiento del modelo"
      ]
    },
    {
      "cell_type": "code",
      "metadata": {
        "colab": {
          "base_uri": "https://localhost:8080/"
        },
        "id": "Sh5Fk15_eNqX",
        "outputId": "e5f86a1d-bc31-4375-f6e1-5924bf773502"
      },
      "source": [
        "print(history.history.keys())"
      ],
      "execution_count": 18,
      "outputs": [
        {
          "output_type": "stream",
          "name": "stdout",
          "text": [
            "dict_keys(['loss', 'accuracy', 'val_loss', 'val_accuracy'])\n"
          ]
        }
      ]
    },
    {
      "cell_type": "code",
      "metadata": {
        "colab": {
          "base_uri": "https://localhost:8080/",
          "height": 577
        },
        "id": "SZwRYNVNl7BX",
        "outputId": "d5fc28fc-aba7-4bf0-e791-f536440000cd"
      },
      "source": [
        "import matplotlib.pyplot as plt\n",
        "plt.plot(history.history['accuracy'])\n",
        "plt.plot(history.history['val_accuracy'])\n",
        "plt.title('Precision del modelo')\n",
        "plt.ylabel('Accuracy')\n",
        "plt.xlabel('Épocas')\n",
        "plt.legend(['Entrenamiento', 'test'], loc='upper left')\n",
        "plt.show()\n",
        "plt.plot(history.history['loss'])\n",
        "plt.plot(history.history['val_loss'])\n",
        "plt.title('Perdidas del modelo')\n",
        "plt.ylabel('perdidas')\n",
        "plt.xlabel('Épocas')\n",
        "plt.legend(['Entrenamiento','test'], loc='upper left')\n",
        "plt.show()"
      ],
      "execution_count": 19,
      "outputs": [
        {
          "output_type": "display_data",
          "data": {
            "image/png": "[encoded data removed]",
            "text/plain": [
              "<Figure size 432x288 with 1 Axes>"
            ]
          },
          "metadata": {
            "needs_background": "light"
          }
        },
        {
          "output_type": "display_data",
          "data": {
            "image/png": "[encoded data removed]",
            "text/plain": [
              "<Figure size 432x288 with 1 Axes>"
            ]
          },
          "metadata": {
            "needs_background": "light"
          }
        }
      ]
    },
    {
      "cell_type": "markdown",
      "metadata": {
        "id": "Yj7eDalxxlzL"
      },
      "source": [
        "Otro tipo de gráfico"
      ]
    },
    {
      "cell_type": "code",
      "metadata": {
        "colab": {
          "base_uri": "https://localhost:8080/",
          "height": 545
        },
        "id": "0a_7Z_Uoev3g",
        "outputId": "dcbe5dbf-6626-4e49-db65-bd592c454592"
      },
      "source": [
        "acc = history.history['accuracy']\n",
        "val_acc  = history.history['val_accuracy']\n",
        "loss     = history.history['loss']\n",
        "val_loss = history.history['val_loss']\n",
        "\n",
        "ep = range(len(acc))\n",
        "\n",
        "plt.plot(ep, acc, 'bo', label='Entrenamiento acc')\n",
        "plt.plot(ep, val_acc, 'b', label='Validación acc')\n",
        "plt.title('Accuracy - exactitud de entrenamiento y validación')\n",
        "\n",
        "plt.legend()\n",
        "plt.figure()\n",
        "\n",
        "plt.plot(ep, loss, 'bo', label='Entrenamiento loss')\n",
        "plt.plot(ep, val_loss, 'b', label='Validación loss')\n",
        "plt.title('Loss - función objetivo en entrenamiento y prueba')\n",
        "\n",
        "plt.legend()\n",
        "plt.show()"
      ],
      "execution_count": 20,
      "outputs": [
        {
          "output_type": "display_data",
          "data": {
            "image/png": "[encoded data removed]",
            "text/plain": [
              "<Figure size 432x288 with 1 Axes>"
            ]
          },
          "metadata": {
            "needs_background": "light"
          }
        },
        {
          "output_type": "display_data",
          "data": {
            "image/png": "[encoded data removed]",
            "text/plain": [
              "<Figure size 432x288 with 1 Axes>"
            ]
          },
          "metadata": {
            "needs_background": "light"
          }
        }
      ]
    },
    {
      "cell_type": "markdown",
      "metadata": {
        "id": "GFq6PBcVxp_R"
      },
      "source": [
        "Guardamos el modelo y los pesos"
      ]
    },
    {
      "cell_type": "code",
      "metadata": {
        "id": "bCAcmEvqxpX4"
      },
      "source": [
        "cnn2.save('/content/TPBuscaYerba/modelo_final.h5')\n",
        "cnn2.save_weights('/content/TPBuscaYerba/pesos_final.h5')"
      ],
      "execution_count": 21,
      "outputs": []
    },
    {
      "cell_type": "markdown",
      "metadata": {
        "id": "7f6M_tOeyHF3"
      },
      "source": [
        "Proceso de predicción"
      ]
    },
    {
      "cell_type": "code",
      "metadata": {
        "id": "3_gF7vCUyIbu"
      },
      "source": [
        "from keras.preprocessing.image import load_img, img_to_array\n",
        "from keras.models import load_model\n",
        "import numpy as np"
      ],
      "execution_count": 22,
      "outputs": []
    },
    {
      "cell_type": "code",
      "metadata": {
        "id": "O_YhBFjLyOin"
      },
      "source": [
        "modelo = '/content/TPBuscaYerba/modelo_final.h5'\n",
        "pesos = '/content/TPBuscaYerba/pesos_final.h5'\n",
        "cnn2 = load_model(modelo)\n",
        "cnn2.load_weights(pesos)"
      ],
      "execution_count": 23,
      "outputs": []
    },
    {
      "cell_type": "code",
      "metadata": {
        "colab": {
          "base_uri": "https://localhost:8080/"
        },
        "id": "sVd_MvBlyltm",
        "outputId": "7245779d-9541-4a6d-fc66-a005f1a24e3d"
      },
      "source": [
        "def predecir (file):\n",
        "  x=load_img(file, target_size=(longitud,altura))\n",
        "  x=img_to_array(x)\n",
        "  x=np.expand_dims(x,axis=0)\n",
        "  output=cnn2.predict(x)\n",
        "  #print(output)\n",
        "  respuesta=np.argmax(output)\n",
        "  \n",
        "  if output == 1:\n",
        "    print('sana')\n",
        "  else:\n",
        "    print('enferma')\n",
        "  return \n",
        "\n",
        "predecir('/content/TPBuscaYerba/Dataset3/validacion/sanas/sana-12.jpg')\n",
        "predecir('/content/TPBuscaYerba/Dataset3/validacion/enfermas/Colletotrichum 12.jpg')\n",
        "predecir('/content/TPBuscaYerba/Dataset3/validacion/enfermas/Colletotrichum 6.jpg')\n",
        "predecir('/content/TPBuscaYerba/Dataset3/validacion/sanas/sana-18.jpg')\n",
        "predecir('/content/TPBuscaYerba/Dataset3/validacion/sanas/sana-18.jpg')\n",
        "predecir('/content/TPBuscaYerba/Dataset3/validacion/enfermas/Cylindrocladium 15.jpg')\n",
        "predecir('/content/TPBuscaYerba/Dataset3/validacion/sanas/sana-7.jpg')\n",
        "predecir('/content/TPBuscaYerba/Dataset3/validacion/enfermas/virosis-1.jpg')"
      ],
      "execution_count": 24,
      "outputs": [
        {
          "output_type": "stream",
          "name": "stdout",
          "text": [
            "sana\n",
            "enferma\n",
            "enferma\n",
            "sana\n",
            "sana\n",
            "enferma\n",
            "sana\n",
            "enferma\n"
          ]
        }
      ]
    }
  ]
}