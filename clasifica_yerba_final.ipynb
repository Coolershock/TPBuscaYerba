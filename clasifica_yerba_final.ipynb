{
  "nbformat": 4,
  "nbformat_minor": 0,
  "metadata": {
    "colab": {
      "name": "clasifica-yerba-final",
      "provenance": [],
      "include_colab_link": true
    },
    "kernelspec": {
      "name": "python3",
      "display_name": "Python 3"
    },
    "language_info": {
      "name": "python"
    },
    "accelerator": "GPU"
  },
  "cells": [
    {
      "cell_type": "markdown",
      "metadata": {
        "id": "view-in-github",
        "colab_type": "text"
      },
      "source": [
        "<a href=\"https://colab.research.google.com/github/Coolershock/TPBuscaYerba/blob/main/clasifica_yerba_final.ipynb\" target=\"_parent\"><img src=\"https://colab.research.google.com/assets/colab-badge.svg\" alt=\"Open In Colab\"/></a>"
      ]
    },
    {
      "cell_type": "code",
      "metadata": {
        "id": "lK41-6oVtLpa"
      },
      "source": [
        "import sys\n",
        "import os\n",
        "import tensorflow \n",
        "from tensorflow import keras\n",
        "from tensorflow.keras import layers\n",
        "from tensorflow.keras import optimizers\n",
        "from tensorflow.keras import losses"
      ],
      "execution_count": null,
      "outputs": []
    },
    {
      "cell_type": "code",
      "metadata": {
        "colab": {
          "base_uri": "https://localhost:8080/"
        },
        "id": "Yd8xduqVtoHw",
        "outputId": "0fe06fdd-5e69-49aa-9af7-5a76dc232f71"
      },
      "source": [
        "print(tensorflow.__version__)"
      ],
      "execution_count": null,
      "outputs": [
        {
          "output_type": "stream",
          "name": "stdout",
          "text": [
            "2.6.0\n"
          ]
        }
      ]
    },
    {
      "cell_type": "markdown",
      "metadata": {
        "id": "rGL5BsBsuyO7"
      },
      "source": [
        "Importamos las librerías necesarias"
      ]
    },
    {
      "cell_type": "code",
      "metadata": {
        "id": "RBEC8lowt0gK"
      },
      "source": [
        "from tensorflow.keras.preprocessing.image import ImageDataGenerator\n",
        "from tensorflow.keras.models import Sequential\n",
        "from tensorflow.keras.layers import Dropout, Flatten, Dense, Activation\n",
        "from tensorflow.keras.layers import Convolution2D, MaxPooling2D"
      ],
      "execution_count": null,
      "outputs": []
    },
    {
      "cell_type": "markdown",
      "metadata": {
        "id": "riuhu3KGu4V8"
      },
      "source": [
        "Limpiamos cualquier corrida anterior"
      ]
    },
    {
      "cell_type": "code",
      "metadata": {
        "id": "s3_SN7H5u-_E"
      },
      "source": [
        "from tensorflow.keras import backend as k\n",
        "k.clear_session()"
      ],
      "execution_count": null,
      "outputs": []
    },
    {
      "cell_type": "markdown",
      "metadata": {
        "id": "2KBGZv0IvLJS"
      },
      "source": [
        "indicamos la ubicación de los datos de entrenamiento y los datos de validación"
      ]
    },
    {
      "cell_type": "code",
      "metadata": {
        "id": "0gfb_8hlvUBU"
      },
      "source": [
        "datos_entrenamiento='/content/drive/MyDrive/doc/machine learning/dataset2/entrenamiento'\n",
        "datos_validacion='/content/drive/MyDrive/doc/machine learning/dataset2/validacion'"
      ],
      "execution_count": null,
      "outputs": []
    },
    {
      "cell_type": "markdown",
      "metadata": {
        "id": "tTCF0JQWwGqZ"
      },
      "source": [
        "Definimos los parámetros que vamos a utilizar"
      ]
    },
    {
      "cell_type": "code",
      "metadata": {
        "id": "XS366uiqwMre"
      },
      "source": [
        "##Parámetros\n",
        "epocas=10\n",
        "altura, longitud = 100,100\n",
        "batch_size=5\n",
        "pasos=10\n",
        "pasos_val=200\n",
        "filtros_conv1=32\n",
        "filtros_conv2=64\n",
        "tam_fil1=(3,3)\n",
        "tam_fil2=(2,2)\n",
        "tam_pool=(2,2)\n",
        "clases=2\n",
        "lr=0.0005"
      ],
      "execution_count": null,
      "outputs": []
    },
    {
      "cell_type": "markdown",
      "metadata": {
        "id": "3vzke_BbwQz2"
      },
      "source": [
        "Preprocesamiento de imágenes"
      ]
    },
    {
      "cell_type": "code",
      "metadata": {
        "colab": {
          "base_uri": "https://localhost:8080/"
        },
        "id": "Zv9HziT2Kzy1",
        "outputId": "95b2f037-6d09-42a9-bda7-d25764c6941d"
      },
      "source": [
        "from google.colab import drive\n",
        "drive.mount('/content/drive')"
      ],
      "execution_count": null,
      "outputs": [
        {
          "output_type": "stream",
          "name": "stdout",
          "text": [
            "Drive already mounted at /content/drive; to attempt to forcibly remount, call drive.mount(\"/content/drive\", force_remount=True).\n"
          ]
        }
      ]
    },
    {
      "cell_type": "code",
      "metadata": {
        "colab": {
          "base_uri": "https://localhost:8080/"
        },
        "id": "bBqYP9clwVZu",
        "outputId": "22518373-ced6-4d5a-8962-c069f9e97006"
      },
      "source": [
        "##Preprocesamiento de imágenes\n",
        "entrenamiento_datagen= ImageDataGenerator(\n",
        "    rescale=1./255,\n",
        "    shear_range=0.3,\n",
        "    zoom_range=0.3,\n",
        "    horizontal_flip=True\n",
        ")\n",
        "\n",
        "validacion_datagen=ImageDataGenerator(\n",
        "    rescale=1./255\n",
        ")\n",
        "\n",
        "imagen_entrenamiento= entrenamiento_datagen.flow_from_directory(\n",
        "    datos_entrenamiento,\n",
        "    target_size=(altura,longitud),\n",
        "    batch_size=batch_size,\n",
        "    class_mode='binary'\n",
        ")\n",
        "\n",
        "imagen_validacion= validacion_datagen.flow_from_directory(\n",
        "    datos_validacion,\n",
        "    target_size=(altura, longitud),\n",
        "    batch_size=batch_size,\n",
        "    class_mode='binary'\n",
        ")"
      ],
      "execution_count": null,
      "outputs": [
        {
          "output_type": "stream",
          "name": "stdout",
          "text": [
            "Found 56 images belonging to 2 classes.\n",
            "Found 56 images belonging to 2 classes.\n"
          ]
        }
      ]
    },
    {
      "cell_type": "markdown",
      "metadata": {
        "id": "t6JbiPVleRb6"
      },
      "source": [
        "Probando una CNN Simple"
      ]
    },
    {
      "cell_type": "code",
      "metadata": {
        "id": "UVVx2T1VeU_I"
      },
      "source": [
        "##Creamos la Red CNN\n",
        "## cnn=Sequential()\n",
        "## cnn.add(Convolution2D(filtros_conv1, tam_fil1, padding='same', input_shape=(altura,longitud,3), activation='relu'))\n",
        "## cnn.add(MaxPooling2D(pool_size=tam_pool))\n",
        "## cnn.add(Convolution2D(filtros_conv2, tam_fil2, padding='same', activation='relu'))\n",
        "## cnn.add(MaxPooling2D(pool_size=tam_pool))"
      ],
      "execution_count": null,
      "outputs": []
    },
    {
      "cell_type": "markdown",
      "metadata": {
        "id": "Jh19b1gMKkZd"
      },
      "source": [
        "Prueba de función vgg16 y vgg19, ambos modelos preeentrenados para clasificación de imágenes con pesos que se descargan al instanciar el modelo"
      ]
    },
    {
      "cell_type": "code",
      "metadata": {
        "colab": {
          "base_uri": "https://localhost:8080/"
        },
        "id": "KGBy4MWJLJa0",
        "outputId": "b00918d3-939f-4c6e-a803-6d23733e4646"
      },
      "source": [
        "from tensorflow.keras.applications.vgg16 import VGG16\n",
        "\n",
        "modelo_vgg16 = VGG16(weights='imagenet', include_top=False,  input_shape=(100, 100, 3))\n",
        "\n",
        "modelo_vgg16.summary()"
      ],
      "execution_count": null,
      "outputs": [
        {
          "output_type": "stream",
          "name": "stdout",
          "text": [
            "Model: \"vgg16\"\n",
            "_________________________________________________________________\n",
            "Layer (type)                 Output Shape              Param #   \n",
            "=================================================================\n",
            "input_1 (InputLayer)         [(None, 100, 100, 3)]     0         \n",
            "_________________________________________________________________\n",
            "block1_conv1 (Conv2D)        (None, 100, 100, 64)      1792      \n",
            "_________________________________________________________________\n",
            "block1_conv2 (Conv2D)        (None, 100, 100, 64)      36928     \n",
            "_________________________________________________________________\n",
            "block1_pool (MaxPooling2D)   (None, 50, 50, 64)        0         \n",
            "_________________________________________________________________\n",
            "block2_conv1 (Conv2D)        (None, 50, 50, 128)       73856     \n",
            "_________________________________________________________________\n",
            "block2_conv2 (Conv2D)        (None, 50, 50, 128)       147584    \n",
            "_________________________________________________________________\n",
            "block2_pool (MaxPooling2D)   (None, 25, 25, 128)       0         \n",
            "_________________________________________________________________\n",
            "block3_conv1 (Conv2D)        (None, 25, 25, 256)       295168    \n",
            "_________________________________________________________________\n",
            "block3_conv2 (Conv2D)        (None, 25, 25, 256)       590080    \n",
            "_________________________________________________________________\n",
            "block3_conv3 (Conv2D)        (None, 25, 25, 256)       590080    \n",
            "_________________________________________________________________\n",
            "block3_pool (MaxPooling2D)   (None, 12, 12, 256)       0         \n",
            "_________________________________________________________________\n",
            "block4_conv1 (Conv2D)        (None, 12, 12, 512)       1180160   \n",
            "_________________________________________________________________\n",
            "block4_conv2 (Conv2D)        (None, 12, 12, 512)       2359808   \n",
            "_________________________________________________________________\n",
            "block4_conv3 (Conv2D)        (None, 12, 12, 512)       2359808   \n",
            "_________________________________________________________________\n",
            "block4_pool (MaxPooling2D)   (None, 6, 6, 512)         0         \n",
            "_________________________________________________________________\n",
            "block5_conv1 (Conv2D)        (None, 6, 6, 512)         2359808   \n",
            "_________________________________________________________________\n",
            "block5_conv2 (Conv2D)        (None, 6, 6, 512)         2359808   \n",
            "_________________________________________________________________\n",
            "block5_conv3 (Conv2D)        (None, 6, 6, 512)         2359808   \n",
            "_________________________________________________________________\n",
            "block5_pool (MaxPooling2D)   (None, 3, 3, 512)         0         \n",
            "=================================================================\n",
            "Total params: 14,714,688\n",
            "Trainable params: 14,714,688\n",
            "Non-trainable params: 0\n",
            "_________________________________________________________________\n"
          ]
        }
      ]
    },
    {
      "cell_type": "code",
      "metadata": {
        "colab": {
          "base_uri": "https://localhost:8080/"
        },
        "id": "rEx_gNRneJB1",
        "outputId": "3567350c-f2e2-4d38-996c-82e0d85c64b1"
      },
      "source": [
        "from tensorflow.keras.applications.vgg19 import VGG19\n",
        "\n",
        "modelo_vgg19 = VGG19(weights='imagenet', include_top=False)\n",
        "\n",
        "modelo_vgg19.summary()"
      ],
      "execution_count": null,
      "outputs": [
        {
          "output_type": "stream",
          "name": "stdout",
          "text": [
            "Model: \"vgg19\"\n",
            "_________________________________________________________________\n",
            "Layer (type)                 Output Shape              Param #   \n",
            "=================================================================\n",
            "input_2 (InputLayer)         [(None, None, None, 3)]   0         \n",
            "_________________________________________________________________\n",
            "block1_conv1 (Conv2D)        (None, None, None, 64)    1792      \n",
            "_________________________________________________________________\n",
            "block1_conv2 (Conv2D)        (None, None, None, 64)    36928     \n",
            "_________________________________________________________________\n",
            "block1_pool (MaxPooling2D)   (None, None, None, 64)    0         \n",
            "_________________________________________________________________\n",
            "block2_conv1 (Conv2D)        (None, None, None, 128)   73856     \n",
            "_________________________________________________________________\n",
            "block2_conv2 (Conv2D)        (None, None, None, 128)   147584    \n",
            "_________________________________________________________________\n",
            "block2_pool (MaxPooling2D)   (None, None, None, 128)   0         \n",
            "_________________________________________________________________\n",
            "block3_conv1 (Conv2D)        (None, None, None, 256)   295168    \n",
            "_________________________________________________________________\n",
            "block3_conv2 (Conv2D)        (None, None, None, 256)   590080    \n",
            "_________________________________________________________________\n",
            "block3_conv3 (Conv2D)        (None, None, None, 256)   590080    \n",
            "_________________________________________________________________\n",
            "block3_conv4 (Conv2D)        (None, None, None, 256)   590080    \n",
            "_________________________________________________________________\n",
            "block3_pool (MaxPooling2D)   (None, None, None, 256)   0         \n",
            "_________________________________________________________________\n",
            "block4_conv1 (Conv2D)        (None, None, None, 512)   1180160   \n",
            "_________________________________________________________________\n",
            "block4_conv2 (Conv2D)        (None, None, None, 512)   2359808   \n",
            "_________________________________________________________________\n",
            "block4_conv3 (Conv2D)        (None, None, None, 512)   2359808   \n",
            "_________________________________________________________________\n",
            "block4_conv4 (Conv2D)        (None, None, None, 512)   2359808   \n",
            "_________________________________________________________________\n",
            "block4_pool (MaxPooling2D)   (None, None, None, 512)   0         \n",
            "_________________________________________________________________\n",
            "block5_conv1 (Conv2D)        (None, None, None, 512)   2359808   \n",
            "_________________________________________________________________\n",
            "block5_conv2 (Conv2D)        (None, None, None, 512)   2359808   \n",
            "_________________________________________________________________\n",
            "block5_conv3 (Conv2D)        (None, None, None, 512)   2359808   \n",
            "_________________________________________________________________\n",
            "block5_conv4 (Conv2D)        (None, None, None, 512)   2359808   \n",
            "_________________________________________________________________\n",
            "block5_pool (MaxPooling2D)   (None, None, None, 512)   0         \n",
            "=================================================================\n",
            "Total params: 20,024,384\n",
            "Trainable params: 20,024,384\n",
            "Non-trainable params: 0\n",
            "_________________________________________________________________\n"
          ]
        }
      ]
    },
    {
      "cell_type": "markdown",
      "metadata": {
        "id": "PIXnhiFmh7qx"
      },
      "source": [
        "Aplicamos Transfer learning congelando todas las capas del modelo, que van a ser las primeras capas del modelo que vamos a aplicar."
      ]
    },
    {
      "cell_type": "code",
      "metadata": {
        "id": "Nt7U05kXh5Hj"
      },
      "source": [
        "for layer in modelo_vgg16.layers:\n",
        "  layer.trainable = False"
      ],
      "execution_count": null,
      "outputs": []
    },
    {
      "cell_type": "markdown",
      "metadata": {
        "id": "wrHaGUbpkVAx"
      },
      "source": [
        "comprobamos que los parámetros antes entrenables, ahora no lo son"
      ]
    },
    {
      "cell_type": "code",
      "metadata": {
        "colab": {
          "base_uri": "https://localhost:8080/"
        },
        "id": "rczbQgTLjqWl",
        "outputId": "6a094aac-d3ee-4a0c-fb10-481ce5fe2ee3"
      },
      "source": [
        "modelo_vgg16.summary()"
      ],
      "execution_count": null,
      "outputs": [
        {
          "output_type": "stream",
          "name": "stdout",
          "text": [
            "Model: \"vgg16\"\n",
            "_________________________________________________________________\n",
            "Layer (type)                 Output Shape              Param #   \n",
            "=================================================================\n",
            "input_1 (InputLayer)         [(None, 100, 100, 3)]     0         \n",
            "_________________________________________________________________\n",
            "block1_conv1 (Conv2D)        (None, 100, 100, 64)      1792      \n",
            "_________________________________________________________________\n",
            "block1_conv2 (Conv2D)        (None, 100, 100, 64)      36928     \n",
            "_________________________________________________________________\n",
            "block1_pool (MaxPooling2D)   (None, 50, 50, 64)        0         \n",
            "_________________________________________________________________\n",
            "block2_conv1 (Conv2D)        (None, 50, 50, 128)       73856     \n",
            "_________________________________________________________________\n",
            "block2_conv2 (Conv2D)        (None, 50, 50, 128)       147584    \n",
            "_________________________________________________________________\n",
            "block2_pool (MaxPooling2D)   (None, 25, 25, 128)       0         \n",
            "_________________________________________________________________\n",
            "block3_conv1 (Conv2D)        (None, 25, 25, 256)       295168    \n",
            "_________________________________________________________________\n",
            "block3_conv2 (Conv2D)        (None, 25, 25, 256)       590080    \n",
            "_________________________________________________________________\n",
            "block3_conv3 (Conv2D)        (None, 25, 25, 256)       590080    \n",
            "_________________________________________________________________\n",
            "block3_pool (MaxPooling2D)   (None, 12, 12, 256)       0         \n",
            "_________________________________________________________________\n",
            "block4_conv1 (Conv2D)        (None, 12, 12, 512)       1180160   \n",
            "_________________________________________________________________\n",
            "block4_conv2 (Conv2D)        (None, 12, 12, 512)       2359808   \n",
            "_________________________________________________________________\n",
            "block4_conv3 (Conv2D)        (None, 12, 12, 512)       2359808   \n",
            "_________________________________________________________________\n",
            "block4_pool (MaxPooling2D)   (None, 6, 6, 512)         0         \n",
            "_________________________________________________________________\n",
            "block5_conv1 (Conv2D)        (None, 6, 6, 512)         2359808   \n",
            "_________________________________________________________________\n",
            "block5_conv2 (Conv2D)        (None, 6, 6, 512)         2359808   \n",
            "_________________________________________________________________\n",
            "block5_conv3 (Conv2D)        (None, 6, 6, 512)         2359808   \n",
            "_________________________________________________________________\n",
            "block5_pool (MaxPooling2D)   (None, 3, 3, 512)         0         \n",
            "=================================================================\n",
            "Total params: 14,714,688\n",
            "Trainable params: 0\n",
            "Non-trainable params: 14,714,688\n",
            "_________________________________________________________________\n"
          ]
        }
      ]
    },
    {
      "cell_type": "markdown",
      "metadata": {
        "id": "yeCN9aCnfCiG"
      },
      "source": [
        "Armamos un modelo con base en el VGG16"
      ]
    },
    {
      "cell_type": "code",
      "metadata": {
        "colab": {
          "base_uri": "https://localhost:8080/"
        },
        "id": "QwKe2oBtg_ms",
        "outputId": "da2b95a8-ada5-4a19-a727-8cda5f5a3abd"
      },
      "source": [
        "cnn=Sequential()\n",
        "cnn.add(modelo_vgg16)\n",
        "cnn.summary()"
      ],
      "execution_count": null,
      "outputs": [
        {
          "output_type": "stream",
          "name": "stdout",
          "text": [
            "Model: \"sequential\"\n",
            "_________________________________________________________________\n",
            "Layer (type)                 Output Shape              Param #   \n",
            "=================================================================\n",
            "vgg16 (Functional)           (None, 3, 3, 512)         14714688  \n",
            "=================================================================\n",
            "Total params: 14,714,688\n",
            "Trainable params: 0\n",
            "Non-trainable params: 14,714,688\n",
            "_________________________________________________________________\n"
          ]
        }
      ]
    },
    {
      "cell_type": "markdown",
      "metadata": {
        "id": "bRDaioL8N-xX"
      },
      "source": [
        "agregamos capas propias, con parametros entrenables"
      ]
    },
    {
      "cell_type": "code",
      "metadata": {
        "colab": {
          "base_uri": "https://localhost:8080/"
        },
        "id": "_o-TRQpRPwcv",
        "outputId": "06dc10c3-7550-4e75-c64b-2c1e3f3bd706"
      },
      "source": [
        "cnn2=Sequential()\n",
        "cnn2.add(modelo_vgg16)\n",
        "cnn2.add(layers.Flatten())\n",
        "cnn2.add(layers.Dense(256, activation='relu'))\n",
        "cnn2.add(layers.Dense(1, activation='sigmoid'))\n",
        "cnn2.summary()"
      ],
      "execution_count": null,
      "outputs": [
        {
          "output_type": "stream",
          "name": "stdout",
          "text": [
            "Model: \"sequential_1\"\n",
            "_________________________________________________________________\n",
            "Layer (type)                 Output Shape              Param #   \n",
            "=================================================================\n",
            "vgg16 (Functional)           (None, 3, 3, 512)         14714688  \n",
            "_________________________________________________________________\n",
            "flatten (Flatten)            (None, 4608)              0         \n",
            "_________________________________________________________________\n",
            "dense (Dense)                (None, 256)               1179904   \n",
            "_________________________________________________________________\n",
            "dense_1 (Dense)              (None, 1)                 257       \n",
            "=================================================================\n",
            "Total params: 15,894,849\n",
            "Trainable params: 1,180,161\n",
            "Non-trainable params: 14,714,688\n",
            "_________________________________________________________________\n"
          ]
        }
      ]
    },
    {
      "cell_type": "code",
      "metadata": {
        "colab": {
          "base_uri": "https://localhost:8080/"
        },
        "id": "miZqwamT26Hy",
        "outputId": "8d216276-d5a5-4eeb-8302-183b4c92fe2c"
      },
      "source": [
        "cnn2.compile(loss='binary_crossentropy', optimizer=keras.optimizers.Adam(learning_rate=lr), metrics=['accuracy'])\n",
        "history = cnn2.fit(imagen_entrenamiento, steps_per_epoch=pasos, epochs=epocas, validation_data = imagen_validacion, validation_steps= 5)"
      ],
      "execution_count": null,
      "outputs": [
        {
          "output_type": "stream",
          "name": "stdout",
          "text": [
            "Epoch 1/10\n",
            "10/10 [==============================] - 17s 2s/step - loss: 0.5622 - accuracy: 0.7609 - val_loss: 0.3651 - val_accuracy: 0.8000\n",
            "Epoch 2/10\n",
            "10/10 [==============================] - 16s 2s/step - loss: 0.3496 - accuracy: 0.8800 - val_loss: 0.4925 - val_accuracy: 0.7600\n",
            "Epoch 3/10\n",
            "10/10 [==============================] - 15s 2s/step - loss: 0.1195 - accuracy: 0.9783 - val_loss: 0.1104 - val_accuracy: 0.9600\n",
            "Epoch 4/10\n",
            "10/10 [==============================] - 15s 1s/step - loss: 0.2357 - accuracy: 0.8696 - val_loss: 0.7045 - val_accuracy: 0.6800\n",
            "Epoch 5/10\n",
            "10/10 [==============================] - 15s 1s/step - loss: 0.4382 - accuracy: 0.8478 - val_loss: 0.0631 - val_accuracy: 0.9600\n",
            "Epoch 6/10\n",
            "10/10 [==============================] - 15s 1s/step - loss: 0.2508 - accuracy: 0.8696 - val_loss: 0.2259 - val_accuracy: 0.8400\n",
            "Epoch 7/10\n",
            "10/10 [==============================] - 15s 1s/step - loss: 0.2475 - accuracy: 0.8913 - val_loss: 0.0267 - val_accuracy: 1.0000\n",
            "Epoch 8/10\n",
            "10/10 [==============================] - 15s 2s/step - loss: 0.1392 - accuracy: 0.9783 - val_loss: 0.0177 - val_accuracy: 1.0000\n",
            "Epoch 9/10\n",
            "10/10 [==============================] - 16s 2s/step - loss: 0.0335 - accuracy: 0.9783 - val_loss: 0.0236 - val_accuracy: 1.0000\n",
            "Epoch 10/10\n",
            "10/10 [==============================] - 16s 2s/step - loss: 0.0423 - accuracy: 1.0000 - val_loss: 0.0165 - val_accuracy: 1.0000\n"
          ]
        }
      ]
    },
    {
      "cell_type": "markdown",
      "metadata": {
        "id": "bqTUDcuAe5oK"
      },
      "source": [
        "Gráficamos algunas métricas asociadas al comportamiento del modelo"
      ]
    },
    {
      "cell_type": "code",
      "metadata": {
        "colab": {
          "base_uri": "https://localhost:8080/"
        },
        "id": "Sh5Fk15_eNqX",
        "outputId": "eb8bdb76-b191-4844-89fe-b59221424d2b"
      },
      "source": [
        "print(history.history.keys())"
      ],
      "execution_count": null,
      "outputs": [
        {
          "output_type": "stream",
          "name": "stdout",
          "text": [
            "dict_keys(['loss', 'accuracy', 'val_loss', 'val_accuracy'])\n"
          ]
        }
      ]
    },
    {
      "cell_type": "code",
      "metadata": {
        "colab": {
          "base_uri": "https://localhost:8080/",
          "height": 577
        },
        "id": "SZwRYNVNl7BX",
        "outputId": "366809dd-9eaa-4fd8-a31c-c68e6d40616e"
      },
      "source": [
        "import matplotlib.pyplot as plt\n",
        "plt.plot(history.history['accuracy'])\n",
        "plt.plot(history.history['val_accuracy'])\n",
        "plt.title('Precision del modelo')\n",
        "plt.ylabel('Accuracy')\n",
        "plt.xlabel('Épocas')\n",
        "plt.legend(['Entrenamiento', 'test'], loc='upper left')\n",
        "plt.show()\n",
        "plt.plot(history.history['loss'])\n",
        "plt.plot(history.history['val_loss'])\n",
        "plt.title('Perdidas del modelo')\n",
        "plt.ylabel('perdidas')\n",
        "plt.xlabel('Épocas')\n",
        "plt.legend(['Entrenamiento','test'], loc='upper left')\n",
        "plt.show()"
      ],
      "execution_count": null,
      "outputs": [
        {
          "output_type": "display_data",
          "data": {
            "image/png": "[encoded data removed]",
            "text/plain": [
              "<Figure size 432x288 with 1 Axes>"
            ]
          },
          "metadata": {
            "needs_background": "light"
          }
        },
        {
          "output_type": "display_data",
          "data": {
            "image/png": "[encoded data removed]",
            "text/plain": [
              "<Figure size 432x288 with 1 Axes>"
            ]
          },
          "metadata": {
            "needs_background": "light"
          }
        }
      ]
    },
    {
      "cell_type": "markdown",
      "metadata": {
        "id": "Yj7eDalxxlzL"
      },
      "source": [
        "Otro tipo de gráfico"
      ]
    },
    {
      "cell_type": "code",
      "metadata": {
        "colab": {
          "base_uri": "https://localhost:8080/",
          "height": 545
        },
        "id": "0a_7Z_Uoev3g",
        "outputId": "9f7f60fd-1bd3-49b5-a991-b84e79098fb4"
      },
      "source": [
        "acc = history.history['accuracy']\n",
        "val_acc  = history.history['val_accuracy']\n",
        "loss     = history.history['loss']\n",
        "val_loss = history.history['val_loss']\n",
        "\n",
        "ep = range(len(acc))\n",
        "\n",
        "plt.plot(ep, acc, 'bo', label='Entrenamiento acc')\n",
        "plt.plot(ep, val_acc, 'b', label='Validación acc')\n",
        "plt.title('Accuracy - exactitud de entrenamiento y validación')\n",
        "\n",
        "plt.legend()\n",
        "plt.figure()\n",
        "\n",
        "plt.plot(ep, loss, 'bo', label='Entrenamiento loss')\n",
        "plt.plot(ep, val_loss, 'b', label='Validación loss')\n",
        "plt.title('Loss - función objetivo en entrenamiento y prueba')\n",
        "\n",
        "plt.legend()\n",
        "plt.show()"
      ],
      "execution_count": null,
      "outputs": [
        {
          "output_type": "display_data",
          "data": {
            "image/png": "[encoded data removed]",
            "text/plain": [
              "<Figure size 432x288 with 1 Axes>"
            ]
          },
          "metadata": {
            "needs_background": "light"
          }
        },
        {
          "output_type": "display_data",
          "data": {
            "image/png": "[encoded data removed]",
            "text/plain": [
              "<Figure size 432x288 with 1 Axes>"
            ]
          },
          "metadata": {
            "needs_background": "light"
          }
        }
      ]
    },
    {
      "cell_type": "markdown",
      "metadata": {
        "id": "GFq6PBcVxp_R"
      },
      "source": [
        "Guardamos el modelo y los pesos"
      ]
    },
    {
      "cell_type": "code",
      "metadata": {
        "id": "bCAcmEvqxpX4"
      },
      "source": [
        "cnn2.save('/content/drive/MyDrive/doc/machine learning/modelo/modelo_final.h5')\n",
        "cnn2.save_weights('/content/drive/MyDrive/doc/machine learning/modelo/pesos_final.h5')"
      ],
      "execution_count": null,
      "outputs": []
    },
    {
      "cell_type": "markdown",
      "metadata": {
        "id": "7f6M_tOeyHF3"
      },
      "source": [
        "Proceso de predicción"
      ]
    },
    {
      "cell_type": "code",
      "metadata": {
        "id": "3_gF7vCUyIbu"
      },
      "source": [
        "from keras.preprocessing.image import load_img, img_to_array\n",
        "from keras.models import load_model\n",
        "import numpy as np"
      ],
      "execution_count": null,
      "outputs": []
    },
    {
      "cell_type": "code",
      "metadata": {
        "id": "O_YhBFjLyOin"
      },
      "source": [
        "modelo = '/content/drive/MyDrive/doc/machine learning/modelo/modelo_final.h5'\n",
        "pesos = '/content/drive/MyDrive/doc/machine learning/modelo/pesos_final.h5'\n",
        "cnn2 = load_model(modelo)\n",
        "cnn2.load_weights(pesos)"
      ],
      "execution_count": null,
      "outputs": []
    },
    {
      "cell_type": "code",
      "metadata": {
        "colab": {
          "base_uri": "https://localhost:8080/"
        },
        "id": "sVd_MvBlyltm",
        "outputId": "95c5e810-e9c4-4e24-c75f-83e4d25e103e"
      },
      "source": [
        "def predecir (file):\n",
        "  x=load_img(file, target_size=(longitud,altura))\n",
        "  x=img_to_array(x)\n",
        "  x=np.expand_dims(x,axis=0)\n",
        "  output=cnn2.predict(x)\n",
        "  #print(output)\n",
        "  respuesta=np.argmax(output)\n",
        "  \n",
        "  if output == 1:\n",
        "    print('sana')\n",
        "  else:\n",
        "    print('enferma')\n",
        "  return \n",
        "\n",
        "predecir('/content/drive/MyDrive/doc/machine learning/dataset2/validacion/sanas/sana-11.jpg')\n",
        "predecir('/content/drive/MyDrive/doc/machine learning/dataset2/validacion/sanas/sana-13.jpg')\n",
        "predecir('/content/drive/MyDrive/doc/machine learning/dataset2/validacion/enfermas/Colletotrichum 11.jpg')\n",
        "predecir('/content/drive/MyDrive/doc/machine learning/dataset2/validacion/enfermas/Colletotrichum 7.jpg')\n",
        "predecir('/content/drive/MyDrive/doc/machine learning/dataset2/validacion/sanas/sana-17.jpg')\n",
        "predecir('/content/drive/MyDrive/doc/machine learning/dataset2/validacion/sanas/sana-7.jpg')\n",
        "predecir('/content/drive/MyDrive/doc/machine learning/dataset2/validacion/enfermas/Colletotrichum 13.jpg')\n",
        "predecir('/content/drive/MyDrive/doc/machine learning/dataset/yerba.jpg')"
      ],
      "execution_count": null,
      "outputs": [
        {
          "output_type": "stream",
          "name": "stdout",
          "text": [
            "sana\n",
            "sana\n",
            "enferma\n",
            "enferma\n",
            "sana\n",
            "sana\n",
            "enferma\n",
            "sana\n"
          ]
        }
      ]
    }
  ]
}